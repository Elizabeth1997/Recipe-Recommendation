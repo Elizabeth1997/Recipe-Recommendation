{
 "cells": [
  {
   "cell_type": "code",
   "execution_count": 1,
   "metadata": {},
   "outputs": [
    {
     "name": "stdout",
     "output_type": "stream",
     "text": [
      "interactions_train_1128.csv       whole_data_1128.csv\r\n",
      "interactions_validation_1128.csv\r\n"
     ]
    }
   ],
   "source": [
    "%ls newdataset/"
   ]
  },
  {
   "cell_type": "code",
   "execution_count": 182,
   "metadata": {},
   "outputs": [],
   "source": [
    "import pandas as pd\n",
    "import numpy as np\n",
    "import torch\n",
    "import torch.nn as nn\n",
    "import json\n",
    "from sklearn.decomposition import PCA\n",
    "import seaborn as sns\n",
    "import matplotlib.pyplot as plt\n",
    "import ast"
   ]
  },
  {
   "cell_type": "code",
   "execution_count": 184,
   "metadata": {},
   "outputs": [],
   "source": [
    "food2vec = pd.read_csv('food2vec_1201.csv')"
   ]
  },
  {
   "cell_type": "code",
   "execution_count": 190,
   "metadata": {},
   "outputs": [
    {
     "data": {
      "text/html": [
       "<div>\n",
       "<style scoped>\n",
       "    .dataframe tbody tr th:only-of-type {\n",
       "        vertical-align: middle;\n",
       "    }\n",
       "\n",
       "    .dataframe tbody tr th {\n",
       "        vertical-align: top;\n",
       "    }\n",
       "\n",
       "    .dataframe thead th {\n",
       "        text-align: right;\n",
       "    }\n",
       "</style>\n",
       "<table border=\"1\" class=\"dataframe\">\n",
       "  <thead>\n",
       "    <tr style=\"text-align: right;\">\n",
       "      <th></th>\n",
       "      <th>Ingredient</th>\n",
       "      <th>Vector</th>\n",
       "    </tr>\n",
       "  </thead>\n",
       "  <tbody>\n",
       "    <tr>\n",
       "      <td>0</td>\n",
       "      <td>great northern beans</td>\n",
       "      <td>[0.1419527, 0.050856147, 0.12818474, 0.2158141...</td>\n",
       "    </tr>\n",
       "    <tr>\n",
       "      <td>1</td>\n",
       "      <td>yellow onion</td>\n",
       "      <td>[0.08089653, -0.08723446, -0.04058786, 0.33989...</td>\n",
       "    </tr>\n",
       "    <tr>\n",
       "      <td>2</td>\n",
       "      <td>diced green chilies</td>\n",
       "      <td>[-0.0064202445, 0.18017997, 0.13981035, -0.111...</td>\n",
       "    </tr>\n",
       "    <tr>\n",
       "      <td>3</td>\n",
       "      <td>ground cumin</td>\n",
       "      <td>[0.038344134, -0.22157283, -0.054828685, 0.113...</td>\n",
       "    </tr>\n",
       "    <tr>\n",
       "      <td>4</td>\n",
       "      <td>garlic powder</td>\n",
       "      <td>[0.081294596, -0.0376514, -0.010471731, 0.2145...</td>\n",
       "    </tr>\n",
       "  </tbody>\n",
       "</table>\n",
       "</div>"
      ],
      "text/plain": [
       "             Ingredient                                             Vector\n",
       "0  great northern beans  [0.1419527, 0.050856147, 0.12818474, 0.2158141...\n",
       "1          yellow onion  [0.08089653, -0.08723446, -0.04058786, 0.33989...\n",
       "2   diced green chilies  [-0.0064202445, 0.18017997, 0.13981035, -0.111...\n",
       "3          ground cumin  [0.038344134, -0.22157283, -0.054828685, 0.113...\n",
       "4         garlic powder  [0.081294596, -0.0376514, -0.010471731, 0.2145..."
      ]
     },
     "execution_count": 190,
     "metadata": {},
     "output_type": "execute_result"
    }
   ],
   "source": [
    "food2vec.head()"
   ]
  },
  {
   "cell_type": "code",
   "execution_count": 200,
   "metadata": {},
   "outputs": [],
   "source": [
    "food2vec = food2vec.reset_index()"
   ]
  },
  {
   "cell_type": "code",
   "execution_count": 201,
   "metadata": {},
   "outputs": [
    {
     "data": {
      "text/html": [
       "<div>\n",
       "<style scoped>\n",
       "    .dataframe tbody tr th:only-of-type {\n",
       "        vertical-align: middle;\n",
       "    }\n",
       "\n",
       "    .dataframe tbody tr th {\n",
       "        vertical-align: top;\n",
       "    }\n",
       "\n",
       "    .dataframe thead th {\n",
       "        text-align: right;\n",
       "    }\n",
       "</style>\n",
       "<table border=\"1\" class=\"dataframe\">\n",
       "  <thead>\n",
       "    <tr style=\"text-align: right;\">\n",
       "      <th></th>\n",
       "      <th>index</th>\n",
       "      <th>Ingredient</th>\n",
       "      <th>Vector</th>\n",
       "    </tr>\n",
       "  </thead>\n",
       "  <tbody>\n",
       "    <tr>\n",
       "      <td>0</td>\n",
       "      <td>0</td>\n",
       "      <td>great northern beans</td>\n",
       "      <td>[0.1419527, 0.050856147, 0.12818474, 0.2158141...</td>\n",
       "    </tr>\n",
       "    <tr>\n",
       "      <td>1</td>\n",
       "      <td>1</td>\n",
       "      <td>yellow onion</td>\n",
       "      <td>[0.08089653, -0.08723446, -0.04058786, 0.33989...</td>\n",
       "    </tr>\n",
       "    <tr>\n",
       "      <td>2</td>\n",
       "      <td>2</td>\n",
       "      <td>diced green chilies</td>\n",
       "      <td>[-0.0064202445, 0.18017997, 0.13981035, -0.111...</td>\n",
       "    </tr>\n",
       "    <tr>\n",
       "      <td>3</td>\n",
       "      <td>3</td>\n",
       "      <td>ground cumin</td>\n",
       "      <td>[0.038344134, -0.22157283, -0.054828685, 0.113...</td>\n",
       "    </tr>\n",
       "    <tr>\n",
       "      <td>4</td>\n",
       "      <td>4</td>\n",
       "      <td>garlic powder</td>\n",
       "      <td>[0.081294596, -0.0376514, -0.010471731, 0.2145...</td>\n",
       "    </tr>\n",
       "  </tbody>\n",
       "</table>\n",
       "</div>"
      ],
      "text/plain": [
       "   index            Ingredient  \\\n",
       "0      0  great northern beans   \n",
       "1      1          yellow onion   \n",
       "2      2   diced green chilies   \n",
       "3      3          ground cumin   \n",
       "4      4         garlic powder   \n",
       "\n",
       "                                              Vector  \n",
       "0  [0.1419527, 0.050856147, 0.12818474, 0.2158141...  \n",
       "1  [0.08089653, -0.08723446, -0.04058786, 0.33989...  \n",
       "2  [-0.0064202445, 0.18017997, 0.13981035, -0.111...  \n",
       "3  [0.038344134, -0.22157283, -0.054828685, 0.113...  \n",
       "4  [0.081294596, -0.0376514, -0.010471731, 0.2145...  "
      ]
     },
     "execution_count": 201,
     "metadata": {},
     "output_type": "execute_result"
    }
   ],
   "source": [
    "food2vec.head()"
   ]
  },
  {
   "cell_type": "code",
   "execution_count": 205,
   "metadata": {},
   "outputs": [],
   "source": [
    "food2vec_dict = food2vec.set_index(keys='Ingredient')['index'].to_dict()"
   ]
  },
  {
   "cell_type": "code",
   "execution_count": 206,
   "metadata": {},
   "outputs": [
    {
     "data": {
      "text/plain": [
       "7032"
      ]
     },
     "execution_count": 206,
     "metadata": {},
     "output_type": "execute_result"
    }
   ],
   "source": [
    "len(food2vec_dict) [0, 7031]"
   ]
  },
  {
   "cell_type": "code",
   "execution_count": 220,
   "metadata": {},
   "outputs": [],
   "source": [
    "recipe2vec = pd.read_csv('recipe2vec_1127.csv')"
   ]
  },
  {
   "cell_type": "code",
   "execution_count": 221,
   "metadata": {},
   "outputs": [
    {
     "data": {
      "text/html": [
       "<div>\n",
       "<style scoped>\n",
       "    .dataframe tbody tr th:only-of-type {\n",
       "        vertical-align: middle;\n",
       "    }\n",
       "\n",
       "    .dataframe tbody tr th {\n",
       "        vertical-align: top;\n",
       "    }\n",
       "\n",
       "    .dataframe thead th {\n",
       "        text-align: right;\n",
       "    }\n",
       "</style>\n",
       "<table border=\"1\" class=\"dataframe\">\n",
       "  <thead>\n",
       "    <tr style=\"text-align: right;\">\n",
       "      <th></th>\n",
       "      <th>i</th>\n",
       "      <th>ingredients</th>\n",
       "      <th>vector</th>\n",
       "    </tr>\n",
       "  </thead>\n",
       "  <tbody>\n",
       "    <tr>\n",
       "      <td>0</td>\n",
       "      <td>0</td>\n",
       "      <td>['great northern beans', 'yellow onion', 'dice...</td>\n",
       "      <td>[0.04360911116666666, -0.005143107888888889, 0...</td>\n",
       "    </tr>\n",
       "    <tr>\n",
       "      <td>1</td>\n",
       "      <td>1</td>\n",
       "      <td>[\"devil's food cake mix\", 'vegetable oil', 'eg...</td>\n",
       "      <td>[-0.17808505125000001, -0.18320775649999999, 0...</td>\n",
       "    </tr>\n",
       "    <tr>\n",
       "      <td>2</td>\n",
       "      <td>2</td>\n",
       "      <td>['mayonnaise', 'salsa', 'cheddar cheese', 'ref...</td>\n",
       "      <td>[-0.045958727461538465, 0.15744469853846155, 0...</td>\n",
       "    </tr>\n",
       "    <tr>\n",
       "      <td>3</td>\n",
       "      <td>3</td>\n",
       "      <td>['chicken tenders', 'flour', 'garlic powder', ...</td>\n",
       "      <td>[0.010844033750000003, -0.11082101774999999, -...</td>\n",
       "    </tr>\n",
       "    <tr>\n",
       "      <td>4</td>\n",
       "      <td>4</td>\n",
       "      <td>['lamb shoulder', 'salt', 'ground black pepper...</td>\n",
       "      <td>[0.026242995312500003, -0.16281941465, 0.00755...</td>\n",
       "    </tr>\n",
       "  </tbody>\n",
       "</table>\n",
       "</div>"
      ],
      "text/plain": [
       "   i                                        ingredients  \\\n",
       "0  0  ['great northern beans', 'yellow onion', 'dice...   \n",
       "1  1  [\"devil's food cake mix\", 'vegetable oil', 'eg...   \n",
       "2  2  ['mayonnaise', 'salsa', 'cheddar cheese', 'ref...   \n",
       "3  3  ['chicken tenders', 'flour', 'garlic powder', ...   \n",
       "4  4  ['lamb shoulder', 'salt', 'ground black pepper...   \n",
       "\n",
       "                                              vector  \n",
       "0  [0.04360911116666666, -0.005143107888888889, 0...  \n",
       "1  [-0.17808505125000001, -0.18320775649999999, 0...  \n",
       "2  [-0.045958727461538465, 0.15744469853846155, 0...  \n",
       "3  [0.010844033750000003, -0.11082101774999999, -...  \n",
       "4  [0.026242995312500003, -0.16281941465, 0.00755...  "
      ]
     },
     "execution_count": 221,
     "metadata": {},
     "output_type": "execute_result"
    }
   ],
   "source": [
    "recipe2vec.head()"
   ]
  },
  {
   "cell_type": "code",
   "execution_count": 233,
   "metadata": {},
   "outputs": [],
   "source": [
    "max_length = len(food2vec_dict)"
   ]
  },
  {
   "cell_type": "code",
   "execution_count": 234,
   "metadata": {},
   "outputs": [
    {
     "data": {
      "text/plain": [
       "7032"
      ]
     },
     "execution_count": 234,
     "metadata": {},
     "output_type": "execute_result"
    }
   ],
   "source": [
    "max_length"
   ]
  },
  {
   "cell_type": "code",
   "execution_count": 235,
   "metadata": {},
   "outputs": [],
   "source": [
    "indexes = []\n",
    "recipe2vec = recipe2vec['ingredients']\n",
    "for each in recipe2vec:\n",
    "    recipe = ast.literal_eval(each)\n",
    "    recipe_list = []\n",
    "    for ingredient in recipe:\n",
    "        try:\n",
    "            recipe_list.append(food2vec_dict[ingredient])\n",
    "        except:\n",
    "            continue\n",
    "    recipe_list.extend([max_length]*(20-len(recipe_list)))\n",
    "    indexes.append(recipe_list)"
   ]
  },
  {
   "cell_type": "code",
   "execution_count": 237,
   "metadata": {},
   "outputs": [
    {
     "data": {
      "text/plain": [
       "178265"
      ]
     },
     "execution_count": 237,
     "metadata": {},
     "output_type": "execute_result"
    }
   ],
   "source": [
    "len(indexes)"
   ]
  },
  {
   "cell_type": "code",
   "execution_count": 238,
   "metadata": {},
   "outputs": [],
   "source": [
    "recipe2vec = pd.read_csv('recipe2vec_1127.csv')"
   ]
  },
  {
   "cell_type": "code",
   "execution_count": 239,
   "metadata": {},
   "outputs": [],
   "source": [
    "recipe2vec['indexes'] = indexes"
   ]
  },
  {
   "cell_type": "code",
   "execution_count": 240,
   "metadata": {},
   "outputs": [],
   "source": [
    "recipe2vec.to_csv('recipe2vec_1203.csv',index=False)"
   ]
  },
  {
   "cell_type": "code",
   "execution_count": 241,
   "metadata": {},
   "outputs": [
    {
     "data": {
      "text/html": [
       "<div>\n",
       "<style scoped>\n",
       "    .dataframe tbody tr th:only-of-type {\n",
       "        vertical-align: middle;\n",
       "    }\n",
       "\n",
       "    .dataframe tbody tr th {\n",
       "        vertical-align: top;\n",
       "    }\n",
       "\n",
       "    .dataframe thead th {\n",
       "        text-align: right;\n",
       "    }\n",
       "</style>\n",
       "<table border=\"1\" class=\"dataframe\">\n",
       "  <thead>\n",
       "    <tr style=\"text-align: right;\">\n",
       "      <th></th>\n",
       "      <th>i</th>\n",
       "      <th>ingredients</th>\n",
       "      <th>vector</th>\n",
       "      <th>indexes</th>\n",
       "    </tr>\n",
       "  </thead>\n",
       "  <tbody>\n",
       "    <tr>\n",
       "      <td>0</td>\n",
       "      <td>0</td>\n",
       "      <td>['great northern beans', 'yellow onion', 'dice...</td>\n",
       "      <td>[0.04360911116666666, -0.005143107888888889, 0...</td>\n",
       "      <td>[0, 1, 2, 3, 4, 5, 6, 7, 8, 7032, 7032, 7032, ...</td>\n",
       "    </tr>\n",
       "    <tr>\n",
       "      <td>1</td>\n",
       "      <td>1</td>\n",
       "      <td>[\"devil's food cake mix\", 'vegetable oil', 'eg...</td>\n",
       "      <td>[-0.17808505125000001, -0.18320775649999999, 0...</td>\n",
       "      <td>[9, 10, 11, 12, 7032, 7032, 7032, 7032, 7032, ...</td>\n",
       "    </tr>\n",
       "    <tr>\n",
       "      <td>2</td>\n",
       "      <td>2</td>\n",
       "      <td>['mayonnaise', 'salsa', 'cheddar cheese', 'ref...</td>\n",
       "      <td>[-0.045958727461538465, 0.15744469853846155, 0...</td>\n",
       "      <td>[13, 14, 15, 16, 17, 18, 19, 20, 21, 22, 23, 2...</td>\n",
       "    </tr>\n",
       "    <tr>\n",
       "      <td>3</td>\n",
       "      <td>3</td>\n",
       "      <td>['chicken tenders', 'flour', 'garlic powder', ...</td>\n",
       "      <td>[0.010844033750000003, -0.11082101774999999, -...</td>\n",
       "      <td>[26, 27, 4, 28, 29, 30, 10, 31, 32, 33, 34, 35...</td>\n",
       "    </tr>\n",
       "    <tr>\n",
       "      <td>4</td>\n",
       "      <td>4</td>\n",
       "      <td>['lamb shoulder', 'salt', 'ground black pepper...</td>\n",
       "      <td>[0.026242995312500003, -0.16281941465, 0.00755...</td>\n",
       "      <td>[36, 28, 37, 10, 38, 39, 27, 40, 41, 42, 43, 3...</td>\n",
       "    </tr>\n",
       "  </tbody>\n",
       "</table>\n",
       "</div>"
      ],
      "text/plain": [
       "   i                                        ingredients  \\\n",
       "0  0  ['great northern beans', 'yellow onion', 'dice...   \n",
       "1  1  [\"devil's food cake mix\", 'vegetable oil', 'eg...   \n",
       "2  2  ['mayonnaise', 'salsa', 'cheddar cheese', 'ref...   \n",
       "3  3  ['chicken tenders', 'flour', 'garlic powder', ...   \n",
       "4  4  ['lamb shoulder', 'salt', 'ground black pepper...   \n",
       "\n",
       "                                              vector  \\\n",
       "0  [0.04360911116666666, -0.005143107888888889, 0...   \n",
       "1  [-0.17808505125000001, -0.18320775649999999, 0...   \n",
       "2  [-0.045958727461538465, 0.15744469853846155, 0...   \n",
       "3  [0.010844033750000003, -0.11082101774999999, -...   \n",
       "4  [0.026242995312500003, -0.16281941465, 0.00755...   \n",
       "\n",
       "                                             indexes  \n",
       "0  [0, 1, 2, 3, 4, 5, 6, 7, 8, 7032, 7032, 7032, ...  \n",
       "1  [9, 10, 11, 12, 7032, 7032, 7032, 7032, 7032, ...  \n",
       "2  [13, 14, 15, 16, 17, 18, 19, 20, 21, 22, 23, 2...  \n",
       "3  [26, 27, 4, 28, 29, 30, 10, 31, 32, 33, 34, 35...  \n",
       "4  [36, 28, 37, 10, 38, 39, 27, 40, 41, 42, 43, 3...  "
      ]
     },
     "execution_count": 241,
     "metadata": {},
     "output_type": "execute_result"
    }
   ],
   "source": [
    "recipe2vec.head()"
   ]
  },
  {
   "cell_type": "code",
   "execution_count": 211,
   "metadata": {},
   "outputs": [],
   "source": [
    "ingre_embeddings_list = [ast.literal_eval(each) for each in food2vec['Vector']]"
   ]
  },
  {
   "cell_type": "code",
   "execution_count": 228,
   "metadata": {},
   "outputs": [],
   "source": [
    "food2vec_tensor = torch.Tensor(ingre_embeddings_list)"
   ]
  },
  {
   "cell_type": "code",
   "execution_count": 229,
   "metadata": {},
   "outputs": [],
   "source": [
    "food2vec_tensor = torch.cat((food2vec_tensor, torch.zeros(1, 100)),dim=0)"
   ]
  },
  {
   "cell_type": "code",
   "execution_count": 230,
   "metadata": {},
   "outputs": [
    {
     "data": {
      "text/plain": [
       "torch.Size([7033, 100])"
      ]
     },
     "execution_count": 230,
     "metadata": {},
     "output_type": "execute_result"
    }
   ],
   "source": [
    "food2vec_tensor.shape"
   ]
  },
  {
   "cell_type": "code",
   "execution_count": 231,
   "metadata": {},
   "outputs": [],
   "source": [
    "torch.save(food2vec_tensor, 'Ingredient_embeddings_1202.pt')"
   ]
  },
  {
   "cell_type": "code",
   "execution_count": 242,
   "metadata": {},
   "outputs": [
    {
     "data": {
      "text/plain": [
       "torch.Size([7033, 100])"
      ]
     },
     "execution_count": 242,
     "metadata": {},
     "output_type": "execute_result"
    }
   ],
   "source": [
    "torch.load('Ingredient_embeddings_1202.pt').shape"
   ]
  },
  {
   "cell_type": "code",
   "execution_count": null,
   "metadata": {},
   "outputs": [],
   "source": [
    "recipe2vec = pd.read_csv('recipe2vec_1127.csv')"
   ]
  },
  {
   "cell_type": "code",
   "execution_count": 109,
   "metadata": {},
   "outputs": [],
   "source": [
    "def remove_(str_):\n",
    "    return str_.replace('_', ' ')"
   ]
  },
  {
   "cell_type": "code",
   "execution_count": 179,
   "metadata": {},
   "outputs": [],
   "source": [
    "food2vec['Ingredient'] = [remove_(ingredient) for ingredient in food2vec['Ingredient']]\n",
    "food_dict = food2vec.set_index(keys='Ingredient')['Vector'].to_dict()"
   ]
  },
  {
   "cell_type": "code",
   "execution_count": 181,
   "metadata": {},
   "outputs": [],
   "source": [
    "food2vec.to_csv('food2vec_1201.csv',index=False)"
   ]
  },
  {
   "cell_type": "code",
   "execution_count": 98,
   "metadata": {},
   "outputs": [],
   "source": [
    "recipe2vec = pd.read_csv('recipe2vec_1127.csv')"
   ]
  },
  {
   "cell_type": "code",
   "execution_count": 178,
   "metadata": {},
   "outputs": [],
   "source": [
    "recipe2vec.to_csv('recipe2vec_1201.csv',index=False)"
   ]
  },
  {
   "cell_type": "code",
   "execution_count": 140,
   "metadata": {},
   "outputs": [
    {
     "data": {
      "text/plain": [
       "RangeIndex(start=0, stop=178265, step=1)"
      ]
     },
     "execution_count": 140,
     "metadata": {},
     "output_type": "execute_result"
    }
   ],
   "source": [
    "# recipe2vec['ingredients'].index\n",
    "# length_list = [len(ast.literal_eval(each)) for each in recipe2vec['ingredients']]\n",
    "# min(length_list)"
   ]
  },
  {
   "cell_type": "code",
   "execution_count": 173,
   "metadata": {},
   "outputs": [],
   "source": [
    "one_tensor = torch.Tensor(np.array(ingre_embeddings_list))"
   ]
  },
  {
   "cell_type": "code",
   "execution_count": 175,
   "metadata": {},
   "outputs": [
    {
     "data": {
      "text/plain": [
       "torch.Size([29, 100])"
      ]
     },
     "execution_count": 175,
     "metadata": {},
     "output_type": "execute_result"
    }
   ],
   "source": [
    "# length, dim = one_tensor.shape\n",
    "one_tensor.shape"
   ]
  },
  {
   "cell_type": "code",
   "execution_count": 168,
   "metadata": {},
   "outputs": [],
   "source": [
    "zero_plus = torch.zeros(20-length,dim)"
   ]
  },
  {
   "cell_type": "code",
   "execution_count": 169,
   "metadata": {},
   "outputs": [
    {
     "data": {
      "text/plain": [
       "torch.Size([16, 100])"
      ]
     },
     "execution_count": 169,
     "metadata": {},
     "output_type": "execute_result"
    }
   ],
   "source": [
    "zero_plus.shape"
   ]
  },
  {
   "cell_type": "code",
   "execution_count": 170,
   "metadata": {},
   "outputs": [
    {
     "data": {
      "text/plain": [
       "torch.Size([20, 100])"
      ]
     },
     "execution_count": 170,
     "metadata": {},
     "output_type": "execute_result"
    }
   ],
   "source": [
    "torch.cat((one_tensor, zero_plus),dim=0).shape"
   ]
  },
  {
   "cell_type": "code",
   "execution_count": 55,
   "metadata": {},
   "outputs": [],
   "source": [
    "from sklearn.decomposition import PCA\n",
    "import plotly.express as px\n",
    "\n",
    "train_data = pd.read_csv('newdataset/interactions_train_1128.csv')\n",
    "\n",
    "\n",
    "recipe2vec = pd.read_csv('recipe2vec_1127.csv')\n",
    "recipe2vec_array = recipe2vec['vector'].to_numpy()\n",
    "recipe2vec_ = torch.Tensor([json.loads(each) for each in recipe2vec_array])\n",
    "\n",
    "recipe_embeddings = nn.Embedding(178265, 100).from_pretrained(recipe2vec_,freeze=True)\n",
    "\n",
    "pca = PCA(n_components=2)"
   ]
  },
  {
   "cell_type": "code",
   "execution_count": 96,
   "metadata": {},
   "outputs": [],
   "source": [
    "# train_data.loc[train_data['u']==3]['i']\n",
    "# train_data.loc[train_data['i']==7]['u']"
   ]
  },
  {
   "cell_type": "code",
   "execution_count": 91,
   "metadata": {},
   "outputs": [],
   "source": [
    "index = torch.LongTensor(np.array())\n",
    "one_user = recipe_embeddings(index)\n",
    "principalComponents = pca.fit_transform(one_user.detach().numpy())\n",
    "principalDf = pd.DataFrame(data = principalComponents, columns = ['pc_one', 'pc_two'])"
   ]
  },
  {
   "cell_type": "code",
   "execution_count": 92,
   "metadata": {},
   "outputs": [
    {
     "data": {
      "text/plain": [
       "RangeIndex(start=0, stop=8, step=1)"
      ]
     },
     "execution_count": 92,
     "metadata": {},
     "output_type": "execute_result"
    }
   ],
   "source": [
    "principalDf.index"
   ]
  },
  {
   "cell_type": "code",
   "execution_count": null,
   "metadata": {},
   "outputs": [],
   "source": [
    "import plotly.graph_objects as go\n",
    "\n",
    "fig = go.Figure(data=go.Scatter(\n",
    "    x=principalDf['pc_one'], \n",
    "    y=principalDf['pc_two'],\n",
    "    mode='markers',\n",
    "    marker=dict(size=15,color='green')\n",
    "))\n",
    "fig.show()"
   ]
  },
  {
   "cell_type": "code",
   "execution_count": 55,
   "metadata": {},
   "outputs": [
    {
     "data": {
      "text/plain": [
       "0.9998436497334603"
      ]
     },
     "execution_count": 55,
     "metadata": {},
     "output_type": "execute_result"
    }
   ],
   "source": [
    "1-698901/(25076*178262)"
   ]
  },
  {
   "cell_type": "markdown",
   "metadata": {},
   "source": [
    "<font color=\"red\">IPython extension to reload modules before executing user code</font>"
   ]
  },
  {
   "cell_type": "code",
   "execution_count": 102,
   "metadata": {},
   "outputs": [
    {
     "data": {
      "text/plain": [
       "array([[1., 0., 0., 0.],\n",
       "       [0., 1., 0., 0.],\n",
       "       [0., 0., 1., 0.],\n",
       "       [0., 0., 0., 1.]])"
      ]
     },
     "execution_count": 102,
     "metadata": {},
     "output_type": "execute_result"
    }
   ],
   "source": [
    "from sklearn.preprocessing import OneHotEncoder\n",
    "onehot = OneHotEncoder(categories='auto',sparse=False)\n",
    "onehot.fit_transform([[0],[1],[2],[3]])"
   ]
  },
  {
   "cell_type": "code",
   "execution_count": 6,
   "metadata": {},
   "outputs": [
    {
     "data": {
      "text/plain": [
       "0          16791\n",
       "1          99809\n",
       "2          84204\n",
       "3         172842\n",
       "4          61982\n",
       "           ...  \n",
       "102914    177909\n",
       "102915    111266\n",
       "102916      9305\n",
       "102917     38408\n",
       "102918    152974\n",
       "Name: i, Length: 102919, dtype: int64"
      ]
     },
     "execution_count": 6,
     "metadata": {},
     "output_type": "execute_result"
    }
   ],
   "source": [
    "recipe2vec = pd.read_csv('recipe2vec_1126.csv')\n",
    "recipe2vec['i']"
   ]
  },
  {
   "cell_type": "code",
   "execution_count": 45,
   "metadata": {},
   "outputs": [],
   "source": [
    "training_data_path = 'dataset/interactions_train.csv'\n",
    "validation_data_path = 'dataset/interactions_validation.csv'\n",
    "test_data_path = 'dataset/interactions_test.csv'\n",
    "PP_recipes_path = 'dataset/PP_recipes.csv'\n",
    "RAW_interactions_path = 'dataset/RAW_interactions.csv'\n",
    "ingredients_map_path = 'dataset/ingredients_map.csv'\n",
    "RAW_recipes_path = 'dataset/RAW_recipes.csv'"
   ]
  },
  {
   "cell_type": "code",
   "execution_count": 46,
   "metadata": {},
   "outputs": [],
   "source": [
    "train = pd.read_csv(training_data_path)\n",
    "validation = pd.read_csv(validation_data_path)"
   ]
  },
  {
   "cell_type": "code",
   "execution_count": 54,
   "metadata": {},
   "outputs": [
    {
     "data": {
      "text/plain": [
       "RangeIndex(start=0, stop=698901, step=1)"
      ]
     },
     "execution_count": 54,
     "metadata": {},
     "output_type": "execute_result"
    }
   ],
   "source": [
    "train.index"
   ]
  },
  {
   "cell_type": "code",
   "execution_count": 55,
   "metadata": {},
   "outputs": [
    {
     "data": {
      "text/plain": [
       "RangeIndex(start=0, stop=7023, step=1)"
      ]
     },
     "execution_count": 55,
     "metadata": {},
     "output_type": "execute_result"
    }
   ],
   "source": [
    "validation.index"
   ]
  },
  {
   "cell_type": "code",
   "execution_count": 56,
   "metadata": {},
   "outputs": [
    {
     "data": {
      "text/plain": [
       "705924"
      ]
     },
     "execution_count": 56,
     "metadata": {},
     "output_type": "execute_result"
    }
   ],
   "source": [
    "698901 + 7023"
   ]
  },
  {
   "cell_type": "code",
   "execution_count": 57,
   "metadata": {},
   "outputs": [],
   "source": [
    "new_train = train.append(validation)"
   ]
  },
  {
   "cell_type": "code",
   "execution_count": 58,
   "metadata": {},
   "outputs": [],
   "source": [
    "new_train.to_csv('dataset/interactions_train_1127.csv',index=False)"
   ]
  },
  {
   "cell_type": "code",
   "execution_count": 49,
   "metadata": {},
   "outputs": [],
   "source": [
    "test = pd.read_csv(test_data_path)"
   ]
  },
  {
   "cell_type": "code",
   "execution_count": 50,
   "metadata": {},
   "outputs": [
    {
     "data": {
      "text/plain": [
       "count     12455.000000\n",
       "mean     115488.123485\n",
       "std       50448.663212\n",
       "min         102.000000\n",
       "25%       76904.000000\n",
       "50%      127793.000000\n",
       "75%      160024.000000\n",
       "max      178264.000000\n",
       "Name: i, dtype: float64"
      ]
     },
     "execution_count": 50,
     "metadata": {},
     "output_type": "execute_result"
    }
   ],
   "source": [
    "test['i'].describe() # max      178264.000000"
   ]
  },
  {
   "cell_type": "code",
   "execution_count": 47,
   "metadata": {},
   "outputs": [
    {
     "data": {
      "text/plain": [
       "count    698901.000000\n",
       "mean      87519.330993\n",
       "std       51290.370370\n",
       "min           0.000000\n",
       "25%       42988.000000\n",
       "50%       87424.000000\n",
       "75%      131731.000000\n",
       "max      178262.000000\n",
       "Name: i, dtype: float64"
      ]
     },
     "execution_count": 47,
     "metadata": {},
     "output_type": "execute_result"
    }
   ],
   "source": [
    "train['i'].describe() # max      178262"
   ]
  },
  {
   "cell_type": "code",
   "execution_count": 48,
   "metadata": {},
   "outputs": [
    {
     "data": {
      "text/plain": [
       "count      7023.000000\n",
       "mean     100122.151075\n",
       "std       52051.115779\n",
       "min         144.000000\n",
       "25%       56227.000000\n",
       "50%      104819.000000\n",
       "75%      146690.500000\n",
       "max      178263.000000\n",
       "Name: i, dtype: float64"
      ]
     },
     "execution_count": 48,
     "metadata": {},
     "output_type": "execute_result"
    }
   ],
   "source": [
    "validation['i'].describe() # max      178263.000000"
   ]
  },
  {
   "cell_type": "code",
   "execution_count": 32,
   "metadata": {},
   "outputs": [
    {
     "data": {
      "text/plain": [
       "RangeIndex(start=0, stop=178265, step=1)"
      ]
     },
     "execution_count": 32,
     "metadata": {},
     "output_type": "execute_result"
    }
   ],
   "source": [
    "pp_recipes_data = pd.read_csv(PP_recipes_path)\n",
    "pp_recipes_data.index"
   ]
  },
  {
   "cell_type": "code",
   "execution_count": 33,
   "metadata": {},
   "outputs": [
    {
     "data": {
      "text/plain": [
       "RangeIndex(start=0, stop=231637, step=1)"
      ]
     },
     "execution_count": 33,
     "metadata": {},
     "output_type": "execute_result"
    }
   ],
   "source": [
    "RAW_recipes_data = pd.read_csv(RAW_recipes_path)\n",
    "RAW_recipes_data.index"
   ]
  },
  {
   "cell_type": "code",
   "execution_count": 13,
   "metadata": {},
   "outputs": [
    {
     "data": {
      "text/html": [
       "<div>\n",
       "<style scoped>\n",
       "    .dataframe tbody tr th:only-of-type {\n",
       "        vertical-align: middle;\n",
       "    }\n",
       "\n",
       "    .dataframe tbody tr th {\n",
       "        vertical-align: top;\n",
       "    }\n",
       "\n",
       "    .dataframe thead th {\n",
       "        text-align: right;\n",
       "    }\n",
       "</style>\n",
       "<table border=\"1\" class=\"dataframe\">\n",
       "  <thead>\n",
       "    <tr style=\"text-align: right;\">\n",
       "      <th></th>\n",
       "      <th>name</th>\n",
       "      <th>id</th>\n",
       "      <th>minutes</th>\n",
       "      <th>contributor_id</th>\n",
       "      <th>submitted</th>\n",
       "      <th>tags</th>\n",
       "      <th>nutrition</th>\n",
       "      <th>n_steps</th>\n",
       "      <th>steps</th>\n",
       "      <th>description</th>\n",
       "      <th>ingredients</th>\n",
       "      <th>n_ingredients</th>\n",
       "    </tr>\n",
       "  </thead>\n",
       "  <tbody>\n",
       "    <tr>\n",
       "      <td>0</td>\n",
       "      <td>arriba   baked winter squash mexican style</td>\n",
       "      <td>137739</td>\n",
       "      <td>55</td>\n",
       "      <td>47892</td>\n",
       "      <td>2005-09-16</td>\n",
       "      <td>['60-minutes-or-less', 'time-to-make', 'course...</td>\n",
       "      <td>[51.5, 0.0, 13.0, 0.0, 2.0, 0.0, 4.0]</td>\n",
       "      <td>11</td>\n",
       "      <td>['make a choice and proceed with recipe', 'dep...</td>\n",
       "      <td>autumn is my favorite time of year to cook! th...</td>\n",
       "      <td>['winter squash', 'mexican seasoning', 'mixed ...</td>\n",
       "      <td>7</td>\n",
       "    </tr>\n",
       "    <tr>\n",
       "      <td>1</td>\n",
       "      <td>a bit different  breakfast pizza</td>\n",
       "      <td>31490</td>\n",
       "      <td>30</td>\n",
       "      <td>26278</td>\n",
       "      <td>2002-06-17</td>\n",
       "      <td>['30-minutes-or-less', 'time-to-make', 'course...</td>\n",
       "      <td>[173.4, 18.0, 0.0, 17.0, 22.0, 35.0, 1.0]</td>\n",
       "      <td>9</td>\n",
       "      <td>['preheat oven to 425 degrees f', 'press dough...</td>\n",
       "      <td>this recipe calls for the crust to be prebaked...</td>\n",
       "      <td>['prepared pizza crust', 'sausage patty', 'egg...</td>\n",
       "      <td>6</td>\n",
       "    </tr>\n",
       "    <tr>\n",
       "      <td>2</td>\n",
       "      <td>all in the kitchen  chili</td>\n",
       "      <td>112140</td>\n",
       "      <td>130</td>\n",
       "      <td>196586</td>\n",
       "      <td>2005-02-25</td>\n",
       "      <td>['time-to-make', 'course', 'preparation', 'mai...</td>\n",
       "      <td>[269.8, 22.0, 32.0, 48.0, 39.0, 27.0, 5.0]</td>\n",
       "      <td>6</td>\n",
       "      <td>['brown ground beef in large pot', 'add choppe...</td>\n",
       "      <td>this modified version of 'mom's' chili was a h...</td>\n",
       "      <td>['ground beef', 'yellow onions', 'diced tomato...</td>\n",
       "      <td>13</td>\n",
       "    </tr>\n",
       "    <tr>\n",
       "      <td>3</td>\n",
       "      <td>alouette  potatoes</td>\n",
       "      <td>59389</td>\n",
       "      <td>45</td>\n",
       "      <td>68585</td>\n",
       "      <td>2003-04-14</td>\n",
       "      <td>['60-minutes-or-less', 'time-to-make', 'course...</td>\n",
       "      <td>[368.1, 17.0, 10.0, 2.0, 14.0, 8.0, 20.0]</td>\n",
       "      <td>11</td>\n",
       "      <td>['place potatoes in a large pot of lightly sal...</td>\n",
       "      <td>this is a super easy, great tasting, make ahea...</td>\n",
       "      <td>['spreadable cheese with garlic and herbs', 'n...</td>\n",
       "      <td>11</td>\n",
       "    </tr>\n",
       "    <tr>\n",
       "      <td>4</td>\n",
       "      <td>amish  tomato ketchup  for canning</td>\n",
       "      <td>44061</td>\n",
       "      <td>190</td>\n",
       "      <td>41706</td>\n",
       "      <td>2002-10-25</td>\n",
       "      <td>['weeknight', 'time-to-make', 'course', 'main-...</td>\n",
       "      <td>[352.9, 1.0, 337.0, 23.0, 3.0, 0.0, 28.0]</td>\n",
       "      <td>5</td>\n",
       "      <td>['mix all ingredients&amp; boil for 2 1 / 2 hours ...</td>\n",
       "      <td>my dh's amish mother raised him on this recipe...</td>\n",
       "      <td>['tomato juice', 'apple cider vinegar', 'sugar...</td>\n",
       "      <td>8</td>\n",
       "    </tr>\n",
       "  </tbody>\n",
       "</table>\n",
       "</div>"
      ],
      "text/plain": [
       "                                         name      id  minutes  \\\n",
       "0  arriba   baked winter squash mexican style  137739       55   \n",
       "1            a bit different  breakfast pizza   31490       30   \n",
       "2                   all in the kitchen  chili  112140      130   \n",
       "3                          alouette  potatoes   59389       45   \n",
       "4          amish  tomato ketchup  for canning   44061      190   \n",
       "\n",
       "   contributor_id   submitted  \\\n",
       "0           47892  2005-09-16   \n",
       "1           26278  2002-06-17   \n",
       "2          196586  2005-02-25   \n",
       "3           68585  2003-04-14   \n",
       "4           41706  2002-10-25   \n",
       "\n",
       "                                                tags  \\\n",
       "0  ['60-minutes-or-less', 'time-to-make', 'course...   \n",
       "1  ['30-minutes-or-less', 'time-to-make', 'course...   \n",
       "2  ['time-to-make', 'course', 'preparation', 'mai...   \n",
       "3  ['60-minutes-or-less', 'time-to-make', 'course...   \n",
       "4  ['weeknight', 'time-to-make', 'course', 'main-...   \n",
       "\n",
       "                                    nutrition  n_steps  \\\n",
       "0       [51.5, 0.0, 13.0, 0.0, 2.0, 0.0, 4.0]       11   \n",
       "1   [173.4, 18.0, 0.0, 17.0, 22.0, 35.0, 1.0]        9   \n",
       "2  [269.8, 22.0, 32.0, 48.0, 39.0, 27.0, 5.0]        6   \n",
       "3   [368.1, 17.0, 10.0, 2.0, 14.0, 8.0, 20.0]       11   \n",
       "4   [352.9, 1.0, 337.0, 23.0, 3.0, 0.0, 28.0]        5   \n",
       "\n",
       "                                               steps  \\\n",
       "0  ['make a choice and proceed with recipe', 'dep...   \n",
       "1  ['preheat oven to 425 degrees f', 'press dough...   \n",
       "2  ['brown ground beef in large pot', 'add choppe...   \n",
       "3  ['place potatoes in a large pot of lightly sal...   \n",
       "4  ['mix all ingredients& boil for 2 1 / 2 hours ...   \n",
       "\n",
       "                                         description  \\\n",
       "0  autumn is my favorite time of year to cook! th...   \n",
       "1  this recipe calls for the crust to be prebaked...   \n",
       "2  this modified version of 'mom's' chili was a h...   \n",
       "3  this is a super easy, great tasting, make ahea...   \n",
       "4  my dh's amish mother raised him on this recipe...   \n",
       "\n",
       "                                         ingredients  n_ingredients  \n",
       "0  ['winter squash', 'mexican seasoning', 'mixed ...              7  \n",
       "1  ['prepared pizza crust', 'sausage patty', 'egg...              6  \n",
       "2  ['ground beef', 'yellow onions', 'diced tomato...             13  \n",
       "3  ['spreadable cheese with garlic and herbs', 'n...             11  \n",
       "4  ['tomato juice', 'apple cider vinegar', 'sugar...              8  "
      ]
     },
     "execution_count": 13,
     "metadata": {},
     "output_type": "execute_result"
    }
   ],
   "source": [
    "RAW_recipes_data.head()"
   ]
  },
  {
   "cell_type": "code",
   "execution_count": 31,
   "metadata": {},
   "outputs": [],
   "source": [
    "one_row = RAW_recipes_data['ingredients'][0]"
   ]
  },
  {
   "cell_type": "code",
   "execution_count": 36,
   "metadata": {},
   "outputs": [
    {
     "data": {
      "text/plain": [
       "['winter squash',\n",
       " 'mexican seasoning',\n",
       " 'mixed spice',\n",
       " 'honey',\n",
       " 'butter',\n",
       " 'olive oil',\n",
       " 'salt']"
      ]
     },
     "execution_count": 36,
     "metadata": {},
     "output_type": "execute_result"
    }
   ],
   "source": [
    "ast.literal_eval(one_row) "
   ]
  },
  {
   "cell_type": "code",
   "execution_count": 30,
   "metadata": {},
   "outputs": [
    {
     "data": {
      "text/plain": [
       "[1, 2, 3]"
      ]
     },
     "execution_count": 30,
     "metadata": {},
     "output_type": "execute_result"
    }
   ],
   "source": [
    "import json\n",
    "json.loads(\"[1, 2, 3]\")"
   ]
  },
  {
   "cell_type": "code",
   "execution_count": 10,
   "metadata": {},
   "outputs": [],
   "source": [
    "import json\n",
    "import ast"
   ]
  },
  {
   "cell_type": "code",
   "execution_count": 35,
   "metadata": {},
   "outputs": [],
   "source": [
    "all_data_list = []"
   ]
  },
  {
   "cell_type": "code",
   "execution_count": 49,
   "metadata": {},
   "outputs": [],
   "source": [
    "# int(PP_recipes_data.loc[PP_recipes_data['id']==89890890]['i'])"
   ]
  },
  {
   "cell_type": "code",
   "execution_count": null,
   "metadata": {},
   "outputs": [],
   "source": [
    "for index, i in enumerate(RAW_recipes_data['id']):\n",
    "    try:\n",
    "        no_recipe = int(pp_recipes_data.loc[pp_recipes_data['id']==i]['i'])\n",
    "        recipe = RAW_recipes_data['ingredients'][index]\n",
    "        all_data_list.append([no_recipe, ast.literal_eval(recipe)])\n",
    "    except:\n",
    "        continue"
   ]
  },
  {
   "cell_type": "markdown",
   "metadata": {},
   "source": [
    "<p>check the number of rows</p>"
   ]
  },
  {
   "cell_type": "code",
   "execution_count": 38,
   "metadata": {},
   "outputs": [
    {
     "data": {
      "text/plain": [
       "178265"
      ]
     },
     "execution_count": 38,
     "metadata": {},
     "output_type": "execute_result"
    }
   ],
   "source": [
    "len(all_data_list)"
   ]
  },
  {
   "cell_type": "code",
   "execution_count": 39,
   "metadata": {},
   "outputs": [],
   "source": [
    "import csv\n",
    "def write_csv():\n",
    "    with open('Ingredients_1127.csv', 'w') as myfile:\n",
    "        wr = csv.writer(myfile)\n",
    "        wr.writerow(['i','ingredients'])\n",
    "        for item in all_data_list:\n",
    "            wr.writerow(item)"
   ]
  },
  {
   "cell_type": "code",
   "execution_count": 18,
   "metadata": {},
   "outputs": [],
   "source": [
    "# write_csv()\n",
    "ingredients_data = pd.read_csv('Ingredients_1127.csv')"
   ]
  },
  {
   "cell_type": "code",
   "execution_count": 20,
   "metadata": {},
   "outputs": [
    {
     "data": {
      "text/html": [
       "<div>\n",
       "<style scoped>\n",
       "    .dataframe tbody tr th:only-of-type {\n",
       "        vertical-align: middle;\n",
       "    }\n",
       "\n",
       "    .dataframe tbody tr th {\n",
       "        vertical-align: top;\n",
       "    }\n",
       "\n",
       "    .dataframe thead th {\n",
       "        text-align: right;\n",
       "    }\n",
       "</style>\n",
       "<table border=\"1\" class=\"dataframe\">\n",
       "  <thead>\n",
       "    <tr style=\"text-align: right;\">\n",
       "      <th></th>\n",
       "      <th>i</th>\n",
       "      <th>ingredients</th>\n",
       "    </tr>\n",
       "  </thead>\n",
       "  <tbody>\n",
       "    <tr>\n",
       "      <td>0</td>\n",
       "      <td>145702</td>\n",
       "      <td>['winter squash', 'mexican seasoning', 'mixed ...</td>\n",
       "    </tr>\n",
       "    <tr>\n",
       "      <td>1</td>\n",
       "      <td>33090</td>\n",
       "      <td>['prepared pizza crust', 'sausage patty', 'egg...</td>\n",
       "    </tr>\n",
       "    <tr>\n",
       "      <td>2</td>\n",
       "      <td>44921</td>\n",
       "      <td>['spreadable cheese with garlic and herbs', 'n...</td>\n",
       "    </tr>\n",
       "    <tr>\n",
       "      <td>3</td>\n",
       "      <td>28162</td>\n",
       "      <td>['milk', 'vanilla ice cream', 'frozen apple ju...</td>\n",
       "    </tr>\n",
       "    <tr>\n",
       "      <td>4</td>\n",
       "      <td>140021</td>\n",
       "      <td>['fennel seeds', 'green olives', 'ripe olives'...</td>\n",
       "    </tr>\n",
       "    <tr>\n",
       "      <td>5</td>\n",
       "      <td>90348</td>\n",
       "      <td>['chocolate sandwich style cookies', 'chocolat...</td>\n",
       "    </tr>\n",
       "    <tr>\n",
       "      <td>6</td>\n",
       "      <td>134358</td>\n",
       "      <td>['sugar', 'unsalted butter', 'bananas', 'eggs'...</td>\n",
       "    </tr>\n",
       "    <tr>\n",
       "      <td>7</td>\n",
       "      <td>71673</td>\n",
       "      <td>['vanilla wafers', 'butter', 'powdered sugar',...</td>\n",
       "    </tr>\n",
       "    <tr>\n",
       "      <td>8</td>\n",
       "      <td>158958</td>\n",
       "      <td>['great northern bean', 'chicken bouillon cube...</td>\n",
       "    </tr>\n",
       "    <tr>\n",
       "      <td>9</td>\n",
       "      <td>118914</td>\n",
       "      <td>['collard greens', 'brown sugar', 'molasses', ...</td>\n",
       "    </tr>\n",
       "  </tbody>\n",
       "</table>\n",
       "</div>"
      ],
      "text/plain": [
       "        i                                        ingredients\n",
       "0  145702  ['winter squash', 'mexican seasoning', 'mixed ...\n",
       "1   33090  ['prepared pizza crust', 'sausage patty', 'egg...\n",
       "2   44921  ['spreadable cheese with garlic and herbs', 'n...\n",
       "3   28162  ['milk', 'vanilla ice cream', 'frozen apple ju...\n",
       "4  140021  ['fennel seeds', 'green olives', 'ripe olives'...\n",
       "5   90348  ['chocolate sandwich style cookies', 'chocolat...\n",
       "6  134358  ['sugar', 'unsalted butter', 'bananas', 'eggs'...\n",
       "7   71673  ['vanilla wafers', 'butter', 'powdered sugar',...\n",
       "8  158958  ['great northern bean', 'chicken bouillon cube...\n",
       "9  118914  ['collard greens', 'brown sugar', 'molasses', ..."
      ]
     },
     "execution_count": 20,
     "metadata": {},
     "output_type": "execute_result"
    }
   ],
   "source": [
    "ingredients_data.head(10)"
   ]
  },
  {
   "cell_type": "code",
   "execution_count": 5,
   "metadata": {},
   "outputs": [],
   "source": [
    "ingredients_data = ingredients_data.sort_values(by=['i'])"
   ]
  },
  {
   "cell_type": "code",
   "execution_count": 6,
   "metadata": {},
   "outputs": [
    {
     "data": {
      "text/html": [
       "<div>\n",
       "<style scoped>\n",
       "    .dataframe tbody tr th:only-of-type {\n",
       "        vertical-align: middle;\n",
       "    }\n",
       "\n",
       "    .dataframe tbody tr th {\n",
       "        vertical-align: top;\n",
       "    }\n",
       "\n",
       "    .dataframe thead th {\n",
       "        text-align: right;\n",
       "    }\n",
       "</style>\n",
       "<table border=\"1\" class=\"dataframe\">\n",
       "  <thead>\n",
       "    <tr style=\"text-align: right;\">\n",
       "      <th></th>\n",
       "      <th>i</th>\n",
       "      <th>ingredients</th>\n",
       "    </tr>\n",
       "  </thead>\n",
       "  <tbody>\n",
       "    <tr>\n",
       "      <td>173846</td>\n",
       "      <td>0</td>\n",
       "      <td>['great northern beans', 'yellow onion', 'dice...</td>\n",
       "    </tr>\n",
       "    <tr>\n",
       "      <td>55432</td>\n",
       "      <td>1</td>\n",
       "      <td>[\"devil's food cake mix\", 'vegetable oil', 'eg...</td>\n",
       "    </tr>\n",
       "    <tr>\n",
       "      <td>11482</td>\n",
       "      <td>2</td>\n",
       "      <td>['mayonnaise', 'salsa', 'cheddar cheese', 'ref...</td>\n",
       "    </tr>\n",
       "    <tr>\n",
       "      <td>90512</td>\n",
       "      <td>3</td>\n",
       "      <td>['chicken tenders', 'flour', 'garlic powder', ...</td>\n",
       "    </tr>\n",
       "    <tr>\n",
       "      <td>92200</td>\n",
       "      <td>4</td>\n",
       "      <td>['lamb shoulder', 'salt', 'ground black pepper...</td>\n",
       "    </tr>\n",
       "  </tbody>\n",
       "</table>\n",
       "</div>"
      ],
      "text/plain": [
       "        i                                        ingredients\n",
       "173846  0  ['great northern beans', 'yellow onion', 'dice...\n",
       "55432   1  [\"devil's food cake mix\", 'vegetable oil', 'eg...\n",
       "11482   2  ['mayonnaise', 'salsa', 'cheddar cheese', 'ref...\n",
       "90512   3  ['chicken tenders', 'flour', 'garlic powder', ...\n",
       "92200   4  ['lamb shoulder', 'salt', 'ground black pepper..."
      ]
     },
     "execution_count": 6,
     "metadata": {},
     "output_type": "execute_result"
    }
   ],
   "source": [
    "ingredients_data.head()"
   ]
  },
  {
   "cell_type": "code",
   "execution_count": 5,
   "metadata": {},
   "outputs": [],
   "source": [
    "ingredients = ingredients_data['ingredients']"
   ]
  },
  {
   "cell_type": "code",
   "execution_count": 40,
   "metadata": {},
   "outputs": [
    {
     "data": {
      "text/plain": [
       "['roasting chickens',\n",
       " 'lemons',\n",
       " 'rosemary sprigs',\n",
       " 'paprika',\n",
       " 'salt',\n",
       " 'ground black pepper',\n",
       " 'garlic cloves',\n",
       " 'onions',\n",
       " 'celery ribs']"
      ]
     },
     "execution_count": 40,
     "metadata": {},
     "output_type": "execute_result"
    }
   ],
   "source": [
    "ast.literal_eval(ingredients_data.loc[ingredients_data['i']==178264]['ingredients'].values[0])"
   ]
  },
  {
   "cell_type": "code",
   "execution_count": 37,
   "metadata": {},
   "outputs": [
    {
     "name": "stdout",
     "output_type": "stream",
     "text": [
      "There are 0 recipes whose the number of ingredients is less than 3 or larger than 20\n"
     ]
    }
   ],
   "source": [
    "write_ingredients_txt(ingredients_data)\n",
    "# There are 0 recipes whose the number of ingredients is less than 3 or larger than 20"
   ]
  },
  {
   "cell_type": "code",
   "execution_count": 12,
   "metadata": {},
   "outputs": [],
   "source": [
    "# replace the empty space with _\n",
    "def get_txt(data_list):\n",
    "    string = ''\n",
    "    for i in data_list:\n",
    "        if string != '':\n",
    "            string = string + ' '+ i.replace(' ', '_')\n",
    "        else:\n",
    "            string = i.replace(' ', '_')\n",
    "    return string"
   ]
  },
  {
   "cell_type": "code",
   "execution_count": 36,
   "metadata": {},
   "outputs": [],
   "source": [
    "def write_ingredients_txt(data):\n",
    "    count = 0\n",
    "    with open('ingredients_1127.txt','w') as train_file:\n",
    "        for i in data.iloc[:].index:\n",
    "            one_row = data.loc[data['i']==i]['ingredients'].values[0]\n",
    "            one_list = ast.literal_eval(one_row)\n",
    "            length = len(one_list)\n",
    "            if length < 3 and length > 20:\n",
    "                count = count + 1\n",
    "            text =  get_txt(one_list)\n",
    "            train_file.write(text+'\\n')\n",
    "    print('There are {} recipes whose the number of ingredients is less than 3 or larger than 20'.format(count))"
   ]
  },
  {
   "cell_type": "code",
   "execution_count": 7,
   "metadata": {},
   "outputs": [],
   "source": [
    "recipe_list = []\n",
    "def recipe_embedding(ingredients_csv, ingredients_txt):\n",
    "    food2vector = pd.read_csv(ingredients_csv)\n",
    "    food2vector_dict = food2vector.set_index('Ingredient')['Vector'].to_dict()\n",
    "    with open(ingredients_txt,'r') as f:\n",
    "        line = f.readline()\n",
    "        while line:\n",
    "            words = line.split()\n",
    "            recipe_array = np.array([np.array(json.loads(food2vector_dict[word])) for word in words if word in food2vector_dict.keys()])\n",
    "            recipe_embedding = np.mean(recipe_array, axis=0).tolist()\n",
    "        #     print(recipe_embedding)\n",
    "            recipe_list.append(recipe_embedding)\n",
    "            line = f.readline()\n",
    "    print(recipe_list[0])"
   ]
  },
  {
   "cell_type": "code",
   "execution_count": 11,
   "metadata": {},
   "outputs": [
    {
     "name": "stdout",
     "output_type": "stream",
     "text": [
      "[0.04360911116666666, -0.005143107888888889, 0.030930276777777772, 0.15099080833333337, 0.12966421400000003, 0.16878439, -0.050376431, 0.04871513944444444, 0.047756277666666666, 0.06970340498666666, -0.08699944088888888, 0.017561258111111113, 0.0738900458888889, 0.031199588666666667, -0.051948275555555555, 0.1338699687777778, -0.08174485233333334, -0.06440234322222221, 0.041474127888888886, -0.06931261122222222, 0.11541264333333334, 0.21478299666666667, -0.11072242999999998, -0.1887571918888889, -0.01426841322222222, -0.1506825988888889, 0.03985811211111111, 0.20752809033333333, -0.15123324100000002, 0.08751435100000002, 0.135921304, -0.07479618965555554, 0.10736602377777778, -0.005669685278888892, -0.015072942333333339, 0.08086043511111113, 0.21761395222222224, -0.052467521833333336, -0.17197639888888888, 0.004928480855555548, 0.014917054111111112, 0.22164525233333335, -0.18934589055555556, -0.04747569211111111, -0.13557304744444443, -0.01539593011111111, -0.000393338444444445, 0.08560508144444444, 0.09886733725555555, 0.013842336222222223, -0.06512302533333332, -0.13375094355555556, 0.035449201777777786, 0.008011930444444442, 0.06571067650000001, 0.16141576033333335, 0.14918349633333333, -0.12904435444444445, 0.15242331866666667, 0.005455929866666663, -0.029419911688888887, -0.18049228711111112, -0.11837190166666667, 0.10318190807777777, 0.05065887711111112, 0.027813985044444448, 0.0915186491111111, -0.03597919568888889, -0.030987676777777782, 0.13916309411111114, -0.11643288954444445, 0.13743259688888887, 0.06985622247777779, -0.04600991888888889, -0.004173253888888904, 0.09291566444444443, 0.015407487322222222, -0.1657911672222222, 0.19621360422222223, 0.053073919, 0.06390463488888891, -0.08988814433333332, 0.11843291166666667, 0.26505236666666665, -0.11874212633333331, 0.17355292537777778, 0.04490672166666668, 0.1848052944444445, -0.20588506277777774, -0.08859007105555555, 0.004503099033333337, -0.06755580622222221, -0.020791296555555554, -0.22953378488888887, 0.02926474077777778, 0.16735803266666666, -0.009594132666666672, 0.007588558444444449, -0.18747064633333338, -0.2068254933333333]\n"
     ]
    }
   ],
   "source": [
    "ingredients_csv = 'food2vec_1127.csv'\n",
    "ingredients_txt = 'ingredients_1127.txt'\n",
    "recipe_embedding(ingredients_csv, ingredients_txt)"
   ]
  },
  {
   "cell_type": "code",
   "execution_count": 21,
   "metadata": {},
   "outputs": [],
   "source": [
    "food2vec = pd.read_csv('food2vec_1127.csv')"
   ]
  },
  {
   "cell_type": "code",
   "execution_count": 22,
   "metadata": {},
   "outputs": [
    {
     "data": {
      "text/html": [
       "<div>\n",
       "<style scoped>\n",
       "    .dataframe tbody tr th:only-of-type {\n",
       "        vertical-align: middle;\n",
       "    }\n",
       "\n",
       "    .dataframe tbody tr th {\n",
       "        vertical-align: top;\n",
       "    }\n",
       "\n",
       "    .dataframe thead th {\n",
       "        text-align: right;\n",
       "    }\n",
       "</style>\n",
       "<table border=\"1\" class=\"dataframe\">\n",
       "  <thead>\n",
       "    <tr style=\"text-align: right;\">\n",
       "      <th></th>\n",
       "      <th>Ingredient</th>\n",
       "      <th>Vector</th>\n",
       "    </tr>\n",
       "  </thead>\n",
       "  <tbody>\n",
       "    <tr>\n",
       "      <td>0</td>\n",
       "      <td>great_northern_beans</td>\n",
       "      <td>[0.1419527, 0.050856147, 0.12818474, 0.2158141...</td>\n",
       "    </tr>\n",
       "    <tr>\n",
       "      <td>1</td>\n",
       "      <td>yellow_onion</td>\n",
       "      <td>[0.08089653, -0.08723446, -0.04058786, 0.33989...</td>\n",
       "    </tr>\n",
       "    <tr>\n",
       "      <td>2</td>\n",
       "      <td>diced_green_chilies</td>\n",
       "      <td>[-0.0064202445, 0.18017997, 0.13981035, -0.111...</td>\n",
       "    </tr>\n",
       "    <tr>\n",
       "      <td>3</td>\n",
       "      <td>ground_cumin</td>\n",
       "      <td>[0.038344134, -0.22157283, -0.054828685, 0.113...</td>\n",
       "    </tr>\n",
       "    <tr>\n",
       "      <td>4</td>\n",
       "      <td>garlic_powder</td>\n",
       "      <td>[0.081294596, -0.0376514, -0.010471731, 0.2145...</td>\n",
       "    </tr>\n",
       "    <tr>\n",
       "      <td>5</td>\n",
       "      <td>fat-free_chicken_broth</td>\n",
       "      <td>[0.12689918, 0.003707604, 0.10743472, 0.179322...</td>\n",
       "    </tr>\n",
       "    <tr>\n",
       "      <td>6</td>\n",
       "      <td>fresh_cilantro_leaves</td>\n",
       "      <td>[-0.081476256, 0.099624015, -0.17738055, 0.052...</td>\n",
       "    </tr>\n",
       "    <tr>\n",
       "      <td>7</td>\n",
       "      <td>extra_virgin_olive_oil</td>\n",
       "      <td>[-0.008849304, 0.014419843, -0.013997273, 0.39...</td>\n",
       "    </tr>\n",
       "    <tr>\n",
       "      <td>8</td>\n",
       "      <td>sour_cream</td>\n",
       "      <td>[0.019840665, -0.04861686, 0.20020878, -0.0403...</td>\n",
       "    </tr>\n",
       "    <tr>\n",
       "      <td>9</td>\n",
       "      <td>devil's_food_cake_mix</td>\n",
       "      <td>[-0.3262564, -0.31572446, -0.13684636, -0.1846...</td>\n",
       "    </tr>\n",
       "  </tbody>\n",
       "</table>\n",
       "</div>"
      ],
      "text/plain": [
       "               Ingredient                                             Vector\n",
       "0    great_northern_beans  [0.1419527, 0.050856147, 0.12818474, 0.2158141...\n",
       "1            yellow_onion  [0.08089653, -0.08723446, -0.04058786, 0.33989...\n",
       "2     diced_green_chilies  [-0.0064202445, 0.18017997, 0.13981035, -0.111...\n",
       "3            ground_cumin  [0.038344134, -0.22157283, -0.054828685, 0.113...\n",
       "4           garlic_powder  [0.081294596, -0.0376514, -0.010471731, 0.2145...\n",
       "5  fat-free_chicken_broth  [0.12689918, 0.003707604, 0.10743472, 0.179322...\n",
       "6   fresh_cilantro_leaves  [-0.081476256, 0.099624015, -0.17738055, 0.052...\n",
       "7  extra_virgin_olive_oil  [-0.008849304, 0.014419843, -0.013997273, 0.39...\n",
       "8              sour_cream  [0.019840665, -0.04861686, 0.20020878, -0.0403...\n",
       "9   devil's_food_cake_mix  [-0.3262564, -0.31572446, -0.13684636, -0.1846..."
      ]
     },
     "execution_count": 22,
     "metadata": {},
     "output_type": "execute_result"
    }
   ],
   "source": [
    "food2vec.head(10)"
   ]
  },
  {
   "cell_type": "code",
   "execution_count": 16,
   "metadata": {},
   "outputs": [
    {
     "data": {
      "text/plain": [
       "RangeIndex(start=0, stop=102919, step=1)"
      ]
     },
     "execution_count": 16,
     "metadata": {},
     "output_type": "execute_result"
    }
   ],
   "source": [
    "ingredients_list.index"
   ]
  },
  {
   "cell_type": "code",
   "execution_count": 12,
   "metadata": {},
   "outputs": [
    {
     "data": {
      "text/plain": [
       "178265"
      ]
     },
     "execution_count": 12,
     "metadata": {},
     "output_type": "execute_result"
    }
   ],
   "source": [
    "len(recipe_list)"
   ]
  },
  {
   "cell_type": "code",
   "execution_count": 13,
   "metadata": {},
   "outputs": [],
   "source": [
    "ingredients_data['vector'] = recipe_list"
   ]
  },
  {
   "cell_type": "code",
   "execution_count": 15,
   "metadata": {},
   "outputs": [],
   "source": [
    "ingredients_data.to_csv('recipe2vec_1127.csv',index=False)"
   ]
  },
  {
   "cell_type": "code",
   "execution_count": 16,
   "metadata": {},
   "outputs": [],
   "source": [
    "recipe2vec = pd.read_csv('recipe2vec_1127.csv')"
   ]
  },
  {
   "cell_type": "code",
   "execution_count": 17,
   "metadata": {},
   "outputs": [
    {
     "data": {
      "text/html": [
       "<div>\n",
       "<style scoped>\n",
       "    .dataframe tbody tr th:only-of-type {\n",
       "        vertical-align: middle;\n",
       "    }\n",
       "\n",
       "    .dataframe tbody tr th {\n",
       "        vertical-align: top;\n",
       "    }\n",
       "\n",
       "    .dataframe thead th {\n",
       "        text-align: right;\n",
       "    }\n",
       "</style>\n",
       "<table border=\"1\" class=\"dataframe\">\n",
       "  <thead>\n",
       "    <tr style=\"text-align: right;\">\n",
       "      <th></th>\n",
       "      <th>i</th>\n",
       "      <th>ingredients</th>\n",
       "      <th>vector</th>\n",
       "    </tr>\n",
       "  </thead>\n",
       "  <tbody>\n",
       "    <tr>\n",
       "      <td>0</td>\n",
       "      <td>0</td>\n",
       "      <td>['great northern beans', 'yellow onion', 'dice...</td>\n",
       "      <td>[0.04360911116666666, -0.005143107888888889, 0...</td>\n",
       "    </tr>\n",
       "    <tr>\n",
       "      <td>1</td>\n",
       "      <td>1</td>\n",
       "      <td>[\"devil's food cake mix\", 'vegetable oil', 'eg...</td>\n",
       "      <td>[-0.17808505125000001, -0.18320775649999999, 0...</td>\n",
       "    </tr>\n",
       "    <tr>\n",
       "      <td>2</td>\n",
       "      <td>2</td>\n",
       "      <td>['mayonnaise', 'salsa', 'cheddar cheese', 'ref...</td>\n",
       "      <td>[-0.045958727461538465, 0.15744469853846155, 0...</td>\n",
       "    </tr>\n",
       "    <tr>\n",
       "      <td>3</td>\n",
       "      <td>3</td>\n",
       "      <td>['chicken tenders', 'flour', 'garlic powder', ...</td>\n",
       "      <td>[0.010844033750000003, -0.11082101774999999, -...</td>\n",
       "    </tr>\n",
       "    <tr>\n",
       "      <td>4</td>\n",
       "      <td>4</td>\n",
       "      <td>['lamb shoulder', 'salt', 'ground black pepper...</td>\n",
       "      <td>[0.026242995312500003, -0.16281941465, 0.00755...</td>\n",
       "    </tr>\n",
       "    <tr>\n",
       "      <td>5</td>\n",
       "      <td>5</td>\n",
       "      <td>['pork chops', 'apple', 'dried apricot', 'cran...</td>\n",
       "      <td>[-0.027189695750000003, -0.16694935141666667, ...</td>\n",
       "    </tr>\n",
       "    <tr>\n",
       "      <td>6</td>\n",
       "      <td>6</td>\n",
       "      <td>['nectarines', 'ear of corn', 'shallot', 'haba...</td>\n",
       "      <td>[-0.049376330499999996, -0.0383035832125, -0.0...</td>\n",
       "    </tr>\n",
       "    <tr>\n",
       "      <td>7</td>\n",
       "      <td>7</td>\n",
       "      <td>['butter', 'onion', 'garlic', 'potatoes', 'flo...</td>\n",
       "      <td>[-0.018259710176923072, -0.09238103823076924, ...</td>\n",
       "    </tr>\n",
       "    <tr>\n",
       "      <td>8</td>\n",
       "      <td>8</td>\n",
       "      <td>['strawberries', 'brown sugar', 'cool whip fre...</td>\n",
       "      <td>[-0.2049909151, -0.2363453425, -0.039119478699...</td>\n",
       "    </tr>\n",
       "    <tr>\n",
       "      <td>9</td>\n",
       "      <td>9</td>\n",
       "      <td>['oats', 'whole wheat flour', 'fiber one cerea...</td>\n",
       "      <td>[-0.181577497, -0.24964736769230766, -0.081040...</td>\n",
       "    </tr>\n",
       "  </tbody>\n",
       "</table>\n",
       "</div>"
      ],
      "text/plain": [
       "   i                                        ingredients  \\\n",
       "0  0  ['great northern beans', 'yellow onion', 'dice...   \n",
       "1  1  [\"devil's food cake mix\", 'vegetable oil', 'eg...   \n",
       "2  2  ['mayonnaise', 'salsa', 'cheddar cheese', 'ref...   \n",
       "3  3  ['chicken tenders', 'flour', 'garlic powder', ...   \n",
       "4  4  ['lamb shoulder', 'salt', 'ground black pepper...   \n",
       "5  5  ['pork chops', 'apple', 'dried apricot', 'cran...   \n",
       "6  6  ['nectarines', 'ear of corn', 'shallot', 'haba...   \n",
       "7  7  ['butter', 'onion', 'garlic', 'potatoes', 'flo...   \n",
       "8  8  ['strawberries', 'brown sugar', 'cool whip fre...   \n",
       "9  9  ['oats', 'whole wheat flour', 'fiber one cerea...   \n",
       "\n",
       "                                              vector  \n",
       "0  [0.04360911116666666, -0.005143107888888889, 0...  \n",
       "1  [-0.17808505125000001, -0.18320775649999999, 0...  \n",
       "2  [-0.045958727461538465, 0.15744469853846155, 0...  \n",
       "3  [0.010844033750000003, -0.11082101774999999, -...  \n",
       "4  [0.026242995312500003, -0.16281941465, 0.00755...  \n",
       "5  [-0.027189695750000003, -0.16694935141666667, ...  \n",
       "6  [-0.049376330499999996, -0.0383035832125, -0.0...  \n",
       "7  [-0.018259710176923072, -0.09238103823076924, ...  \n",
       "8  [-0.2049909151, -0.2363453425, -0.039119478699...  \n",
       "9  [-0.181577497, -0.24964736769230766, -0.081040...  "
      ]
     },
     "execution_count": 17,
     "metadata": {},
     "output_type": "execute_result"
    }
   ],
   "source": [
    "recipe2vec.head(10)"
   ]
  },
  {
   "cell_type": "code",
   "execution_count": 12,
   "metadata": {},
   "outputs": [],
   "source": [
    "PP_recipes_data = pd.read_csv(PP_recipes_path)\n",
    "# PP_recipes_data['id'].describe()"
   ]
  },
  {
   "cell_type": "code",
   "execution_count": 23,
   "metadata": {},
   "outputs": [
    {
     "data": {
      "text/plain": [
       "145702"
      ]
     },
     "execution_count": 23,
     "metadata": {},
     "output_type": "execute_result"
    }
   ],
   "source": [
    "int(PP_recipes_data.loc[PP_recipes_data['id']==RAW_recipes_data['id'][0]]['i'] )"
   ]
  },
  {
   "cell_type": "code",
   "execution_count": 17,
   "metadata": {},
   "outputs": [
    {
     "data": {
      "text/html": [
       "<div>\n",
       "<style scoped>\n",
       "    .dataframe tbody tr th:only-of-type {\n",
       "        vertical-align: middle;\n",
       "    }\n",
       "\n",
       "    .dataframe tbody tr th {\n",
       "        vertical-align: top;\n",
       "    }\n",
       "\n",
       "    .dataframe thead th {\n",
       "        text-align: right;\n",
       "    }\n",
       "</style>\n",
       "<table border=\"1\" class=\"dataframe\">\n",
       "  <thead>\n",
       "    <tr style=\"text-align: right;\">\n",
       "      <th></th>\n",
       "      <th>id</th>\n",
       "      <th>i</th>\n",
       "      <th>name_tokens</th>\n",
       "      <th>ingredient_tokens</th>\n",
       "      <th>steps_tokens</th>\n",
       "      <th>techniques</th>\n",
       "      <th>calorie_level</th>\n",
       "      <th>ingredient_ids</th>\n",
       "    </tr>\n",
       "  </thead>\n",
       "  <tbody>\n",
       "    <tr>\n",
       "      <td>0</td>\n",
       "      <td>424415</td>\n",
       "      <td>23</td>\n",
       "      <td>[40480, 37229, 2911, 1019, 249, 6878, 6878, 28...</td>\n",
       "      <td>[[2911, 1019, 249, 6878], [1353], [6953], [153...</td>\n",
       "      <td>[40480, 40482, 21662, 481, 6878, 500, 246, 161...</td>\n",
       "      <td>[0, 0, 0, 0, 0, 0, 0, 0, 0, 1, 0, 0, 0, 0, 0, ...</td>\n",
       "      <td>0</td>\n",
       "      <td>[389, 7655, 6270, 1527, 3406]</td>\n",
       "    </tr>\n",
       "    <tr>\n",
       "      <td>1</td>\n",
       "      <td>146223</td>\n",
       "      <td>96900</td>\n",
       "      <td>[40480, 18376, 7056, 246, 1531, 2032, 40481]</td>\n",
       "      <td>[[17918], [25916], [2507, 6444], [8467, 1179],...</td>\n",
       "      <td>[40480, 40482, 729, 2525, 10906, 485, 43, 8393...</td>\n",
       "      <td>[1, 0, 0, 0, 0, 0, 0, 0, 0, 1, 0, 0, 0, 0, 0, ...</td>\n",
       "      <td>0</td>\n",
       "      <td>[2683, 4969, 800, 5298, 840, 2499, 6632, 7022,...</td>\n",
       "    </tr>\n",
       "    <tr>\n",
       "      <td>2</td>\n",
       "      <td>312329</td>\n",
       "      <td>120056</td>\n",
       "      <td>[40480, 21044, 16954, 8294, 556, 10837, 40481]</td>\n",
       "      <td>[[5867, 24176], [1353], [6953], [1301, 11332],...</td>\n",
       "      <td>[40480, 40482, 8240, 481, 24176, 296, 1353, 66...</td>\n",
       "      <td>[0, 0, 0, 0, 1, 0, 0, 0, 0, 0, 0, 1, 0, 0, 0, ...</td>\n",
       "      <td>1</td>\n",
       "      <td>[1257, 7655, 6270, 590, 5024, 1119, 4883, 6696...</td>\n",
       "    </tr>\n",
       "    <tr>\n",
       "      <td>3</td>\n",
       "      <td>74301</td>\n",
       "      <td>168258</td>\n",
       "      <td>[40480, 10025, 31156, 40481]</td>\n",
       "      <td>[[1270, 1645, 28447], [21601], [27952, 29471, ...</td>\n",
       "      <td>[40480, 40482, 5539, 21601, 1073, 903, 2324, 4...</td>\n",
       "      <td>[1, 0, 0, 0, 0, 0, 0, 0, 0, 0, 0, 0, 0, 0, 0, ...</td>\n",
       "      <td>0</td>\n",
       "      <td>[7940, 3609, 7060, 6265, 1170, 6654, 5003, 3561]</td>\n",
       "    </tr>\n",
       "    <tr>\n",
       "      <td>4</td>\n",
       "      <td>76272</td>\n",
       "      <td>109030</td>\n",
       "      <td>[40480, 17841, 252, 782, 2373, 1641, 2373, 252...</td>\n",
       "      <td>[[1430, 11434], [1430, 17027], [1615, 23, 695,...</td>\n",
       "      <td>[40480, 40482, 14046, 1430, 11434, 488, 17027,...</td>\n",
       "      <td>[0, 0, 0, 0, 0, 0, 0, 0, 0, 1, 0, 0, 0, 0, 0, ...</td>\n",
       "      <td>0</td>\n",
       "      <td>[3484, 6324, 7594, 243]</td>\n",
       "    </tr>\n",
       "  </tbody>\n",
       "</table>\n",
       "</div>"
      ],
      "text/plain": [
       "       id       i                                        name_tokens  \\\n",
       "0  424415      23  [40480, 37229, 2911, 1019, 249, 6878, 6878, 28...   \n",
       "1  146223   96900       [40480, 18376, 7056, 246, 1531, 2032, 40481]   \n",
       "2  312329  120056     [40480, 21044, 16954, 8294, 556, 10837, 40481]   \n",
       "3   74301  168258                       [40480, 10025, 31156, 40481]   \n",
       "4   76272  109030  [40480, 17841, 252, 782, 2373, 1641, 2373, 252...   \n",
       "\n",
       "                                   ingredient_tokens  \\\n",
       "0  [[2911, 1019, 249, 6878], [1353], [6953], [153...   \n",
       "1  [[17918], [25916], [2507, 6444], [8467, 1179],...   \n",
       "2  [[5867, 24176], [1353], [6953], [1301, 11332],...   \n",
       "3  [[1270, 1645, 28447], [21601], [27952, 29471, ...   \n",
       "4  [[1430, 11434], [1430, 17027], [1615, 23, 695,...   \n",
       "\n",
       "                                        steps_tokens  \\\n",
       "0  [40480, 40482, 21662, 481, 6878, 500, 246, 161...   \n",
       "1  [40480, 40482, 729, 2525, 10906, 485, 43, 8393...   \n",
       "2  [40480, 40482, 8240, 481, 24176, 296, 1353, 66...   \n",
       "3  [40480, 40482, 5539, 21601, 1073, 903, 2324, 4...   \n",
       "4  [40480, 40482, 14046, 1430, 11434, 488, 17027,...   \n",
       "\n",
       "                                          techniques  calorie_level  \\\n",
       "0  [0, 0, 0, 0, 0, 0, 0, 0, 0, 1, 0, 0, 0, 0, 0, ...              0   \n",
       "1  [1, 0, 0, 0, 0, 0, 0, 0, 0, 1, 0, 0, 0, 0, 0, ...              0   \n",
       "2  [0, 0, 0, 0, 1, 0, 0, 0, 0, 0, 0, 1, 0, 0, 0, ...              1   \n",
       "3  [1, 0, 0, 0, 0, 0, 0, 0, 0, 0, 0, 0, 0, 0, 0, ...              0   \n",
       "4  [0, 0, 0, 0, 0, 0, 0, 0, 0, 1, 0, 0, 0, 0, 0, ...              0   \n",
       "\n",
       "                                      ingredient_ids  \n",
       "0                      [389, 7655, 6270, 1527, 3406]  \n",
       "1  [2683, 4969, 800, 5298, 840, 2499, 6632, 7022,...  \n",
       "2  [1257, 7655, 6270, 590, 5024, 1119, 4883, 6696...  \n",
       "3   [7940, 3609, 7060, 6265, 1170, 6654, 5003, 3561]  \n",
       "4                            [3484, 6324, 7594, 243]  "
      ]
     },
     "execution_count": 17,
     "metadata": {},
     "output_type": "execute_result"
    }
   ],
   "source": [
    "PP_recipes_data.head()"
   ]
  },
  {
   "cell_type": "code",
   "execution_count": 4,
   "metadata": {},
   "outputs": [],
   "source": [
    "validation_data = pd.read_csv(validation_data_path)\n",
    "test_data = pd.read_csv(test_data_path)"
   ]
  },
  {
   "cell_type": "code",
   "execution_count": 5,
   "metadata": {},
   "outputs": [],
   "source": [
    "train_data = pd.read_csv(training_data_path)\n",
    "PP_recipes_data = pd.read_csv(PP_recipes_path)\n",
    "RAW_interactions_data = pd.read_csv(RAW_interactions_path)\n",
    "ingredients_map_data = pd.read_csv(ingredients_map_path)"
   ]
  },
  {
   "cell_type": "code",
   "execution_count": 6,
   "metadata": {},
   "outputs": [
    {
     "data": {
      "text/html": [
       "<div>\n",
       "<style scoped>\n",
       "    .dataframe tbody tr th:only-of-type {\n",
       "        vertical-align: middle;\n",
       "    }\n",
       "\n",
       "    .dataframe tbody tr th {\n",
       "        vertical-align: top;\n",
       "    }\n",
       "\n",
       "    .dataframe thead th {\n",
       "        text-align: right;\n",
       "    }\n",
       "</style>\n",
       "<table border=\"1\" class=\"dataframe\">\n",
       "  <thead>\n",
       "    <tr style=\"text-align: right;\">\n",
       "      <th></th>\n",
       "      <th>user_id</th>\n",
       "      <th>recipe_id</th>\n",
       "      <th>date</th>\n",
       "      <th>rating</th>\n",
       "      <th>u</th>\n",
       "      <th>i</th>\n",
       "    </tr>\n",
       "  </thead>\n",
       "  <tbody>\n",
       "    <tr>\n",
       "      <td>0</td>\n",
       "      <td>2046</td>\n",
       "      <td>4684</td>\n",
       "      <td>2000-02-25</td>\n",
       "      <td>5.0</td>\n",
       "      <td>22095</td>\n",
       "      <td>44367</td>\n",
       "    </tr>\n",
       "    <tr>\n",
       "      <td>1</td>\n",
       "      <td>2046</td>\n",
       "      <td>517</td>\n",
       "      <td>2000-02-25</td>\n",
       "      <td>5.0</td>\n",
       "      <td>22095</td>\n",
       "      <td>87844</td>\n",
       "    </tr>\n",
       "    <tr>\n",
       "      <td>2</td>\n",
       "      <td>1773</td>\n",
       "      <td>7435</td>\n",
       "      <td>2000-03-13</td>\n",
       "      <td>5.0</td>\n",
       "      <td>24732</td>\n",
       "      <td>138181</td>\n",
       "    </tr>\n",
       "    <tr>\n",
       "      <td>3</td>\n",
       "      <td>1773</td>\n",
       "      <td>278</td>\n",
       "      <td>2000-03-13</td>\n",
       "      <td>4.0</td>\n",
       "      <td>24732</td>\n",
       "      <td>93054</td>\n",
       "    </tr>\n",
       "    <tr>\n",
       "      <td>4</td>\n",
       "      <td>2046</td>\n",
       "      <td>3431</td>\n",
       "      <td>2000-04-07</td>\n",
       "      <td>5.0</td>\n",
       "      <td>22095</td>\n",
       "      <td>101723</td>\n",
       "    </tr>\n",
       "  </tbody>\n",
       "</table>\n",
       "</div>"
      ],
      "text/plain": [
       "   user_id  recipe_id        date  rating      u       i\n",
       "0     2046       4684  2000-02-25     5.0  22095   44367\n",
       "1     2046        517  2000-02-25     5.0  22095   87844\n",
       "2     1773       7435  2000-03-13     5.0  24732  138181\n",
       "3     1773        278  2000-03-13     4.0  24732   93054\n",
       "4     2046       3431  2000-04-07     5.0  22095  101723"
      ]
     },
     "execution_count": 6,
     "metadata": {},
     "output_type": "execute_result"
    }
   ],
   "source": [
    "train_data.head()"
   ]
  },
  {
   "cell_type": "code",
   "execution_count": 25,
   "metadata": {},
   "outputs": [],
   "source": [
    "def tabular_preview(ratings, n=5):\n",
    "    \"\"\"Creates a cross-tabular view of users vs movies.\"\"\"\n",
    "    \n",
    "    user_groups = ratings.groupby('u')['i'].count()\n",
    "    top_users = user_groups.sort_values(ascending=False)[:10]\n",
    "\n",
    "    movie_groups = ratings.groupby('i')['rating'].count()\n",
    "    top_movies = movie_groups.sort_values(ascending=False)[:10]\n",
    "\n",
    "    top = (\n",
    "        ratings.\n",
    "        join(top_users, rsuffix='_r', how='inner', on='u').\n",
    "        join(top_movies, rsuffix='_r', how='inner', on='i'))\n",
    "\n",
    "    return pd.crosstab(top.u, top.i, top.rating, aggfunc=np.sum)"
   ]
  },
  {
   "cell_type": "code",
   "execution_count": 26,
   "metadata": {},
   "outputs": [
    {
     "data": {
      "text/html": [
       "<div>\n",
       "<style scoped>\n",
       "    .dataframe tbody tr th:only-of-type {\n",
       "        vertical-align: middle;\n",
       "    }\n",
       "\n",
       "    .dataframe tbody tr th {\n",
       "        vertical-align: top;\n",
       "    }\n",
       "\n",
       "    .dataframe thead th {\n",
       "        text-align: right;\n",
       "    }\n",
       "</style>\n",
       "<table border=\"1\" class=\"dataframe\">\n",
       "  <thead>\n",
       "    <tr style=\"text-align: right;\">\n",
       "      <th>i</th>\n",
       "      <th>37047</th>\n",
       "      <th>52334</th>\n",
       "      <th>56425</th>\n",
       "      <th>99787</th>\n",
       "      <th>101819</th>\n",
       "      <th>117899</th>\n",
       "      <th>127080</th>\n",
       "      <th>134610</th>\n",
       "      <th>135961</th>\n",
       "      <th>147374</th>\n",
       "    </tr>\n",
       "    <tr>\n",
       "      <th>u</th>\n",
       "      <th></th>\n",
       "      <th></th>\n",
       "      <th></th>\n",
       "      <th></th>\n",
       "      <th></th>\n",
       "      <th></th>\n",
       "      <th></th>\n",
       "      <th></th>\n",
       "      <th></th>\n",
       "      <th></th>\n",
       "    </tr>\n",
       "  </thead>\n",
       "  <tbody>\n",
       "    <tr>\n",
       "      <td>94</td>\n",
       "      <td>NaN</td>\n",
       "      <td>NaN</td>\n",
       "      <td>NaN</td>\n",
       "      <td>NaN</td>\n",
       "      <td>5.0</td>\n",
       "      <td>NaN</td>\n",
       "      <td>NaN</td>\n",
       "      <td>NaN</td>\n",
       "      <td>NaN</td>\n",
       "      <td>NaN</td>\n",
       "    </tr>\n",
       "    <tr>\n",
       "      <td>130</td>\n",
       "      <td>NaN</td>\n",
       "      <td>2.0</td>\n",
       "      <td>3.0</td>\n",
       "      <td>NaN</td>\n",
       "      <td>NaN</td>\n",
       "      <td>NaN</td>\n",
       "      <td>5.0</td>\n",
       "      <td>3.0</td>\n",
       "      <td>NaN</td>\n",
       "      <td>NaN</td>\n",
       "    </tr>\n",
       "    <tr>\n",
       "      <td>164</td>\n",
       "      <td>NaN</td>\n",
       "      <td>5.0</td>\n",
       "      <td>5.0</td>\n",
       "      <td>NaN</td>\n",
       "      <td>NaN</td>\n",
       "      <td>NaN</td>\n",
       "      <td>5.0</td>\n",
       "      <td>NaN</td>\n",
       "      <td>NaN</td>\n",
       "      <td>5.0</td>\n",
       "    </tr>\n",
       "    <tr>\n",
       "      <td>193</td>\n",
       "      <td>NaN</td>\n",
       "      <td>5.0</td>\n",
       "      <td>5.0</td>\n",
       "      <td>NaN</td>\n",
       "      <td>5.0</td>\n",
       "      <td>NaN</td>\n",
       "      <td>NaN</td>\n",
       "      <td>4.0</td>\n",
       "      <td>NaN</td>\n",
       "      <td>NaN</td>\n",
       "    </tr>\n",
       "    <tr>\n",
       "      <td>208</td>\n",
       "      <td>NaN</td>\n",
       "      <td>NaN</td>\n",
       "      <td>5.0</td>\n",
       "      <td>5.0</td>\n",
       "      <td>NaN</td>\n",
       "      <td>NaN</td>\n",
       "      <td>NaN</td>\n",
       "      <td>NaN</td>\n",
       "      <td>NaN</td>\n",
       "      <td>NaN</td>\n",
       "    </tr>\n",
       "    <tr>\n",
       "      <td>267</td>\n",
       "      <td>5.0</td>\n",
       "      <td>NaN</td>\n",
       "      <td>NaN</td>\n",
       "      <td>5.0</td>\n",
       "      <td>5.0</td>\n",
       "      <td>5.0</td>\n",
       "      <td>NaN</td>\n",
       "      <td>4.0</td>\n",
       "      <td>NaN</td>\n",
       "      <td>5.0</td>\n",
       "    </tr>\n",
       "    <tr>\n",
       "      <td>275</td>\n",
       "      <td>NaN</td>\n",
       "      <td>5.0</td>\n",
       "      <td>NaN</td>\n",
       "      <td>5.0</td>\n",
       "      <td>NaN</td>\n",
       "      <td>NaN</td>\n",
       "      <td>NaN</td>\n",
       "      <td>NaN</td>\n",
       "      <td>5.0</td>\n",
       "      <td>5.0</td>\n",
       "    </tr>\n",
       "    <tr>\n",
       "      <td>319</td>\n",
       "      <td>5.0</td>\n",
       "      <td>NaN</td>\n",
       "      <td>NaN</td>\n",
       "      <td>NaN</td>\n",
       "      <td>NaN</td>\n",
       "      <td>NaN</td>\n",
       "      <td>NaN</td>\n",
       "      <td>NaN</td>\n",
       "      <td>NaN</td>\n",
       "      <td>NaN</td>\n",
       "    </tr>\n",
       "  </tbody>\n",
       "</table>\n",
       "</div>"
      ],
      "text/plain": [
       "i    37047   52334   56425   99787   101819  117899  127080  134610  135961  \\\n",
       "u                                                                             \n",
       "94      NaN     NaN     NaN     NaN     5.0     NaN     NaN     NaN     NaN   \n",
       "130     NaN     2.0     3.0     NaN     NaN     NaN     5.0     3.0     NaN   \n",
       "164     NaN     5.0     5.0     NaN     NaN     NaN     5.0     NaN     NaN   \n",
       "193     NaN     5.0     5.0     NaN     5.0     NaN     NaN     4.0     NaN   \n",
       "208     NaN     NaN     5.0     5.0     NaN     NaN     NaN     NaN     NaN   \n",
       "267     5.0     NaN     NaN     5.0     5.0     5.0     NaN     4.0     NaN   \n",
       "275     NaN     5.0     NaN     5.0     NaN     NaN     NaN     NaN     5.0   \n",
       "319     5.0     NaN     NaN     NaN     NaN     NaN     NaN     NaN     NaN   \n",
       "\n",
       "i    147374  \n",
       "u            \n",
       "94      NaN  \n",
       "130     NaN  \n",
       "164     5.0  \n",
       "193     NaN  \n",
       "208     NaN  \n",
       "267     5.0  \n",
       "275     5.0  \n",
       "319     NaN  "
      ]
     },
     "execution_count": 26,
     "metadata": {},
     "output_type": "execute_result"
    }
   ],
   "source": [
    "tabular_preview(train_data)[:8]"
   ]
  },
  {
   "cell_type": "code",
   "execution_count": 7,
   "metadata": {},
   "outputs": [
    {
     "data": {
      "text/html": [
       "<div>\n",
       "<style scoped>\n",
       "    .dataframe tbody tr th:only-of-type {\n",
       "        vertical-align: middle;\n",
       "    }\n",
       "\n",
       "    .dataframe tbody tr th {\n",
       "        vertical-align: top;\n",
       "    }\n",
       "\n",
       "    .dataframe thead th {\n",
       "        text-align: right;\n",
       "    }\n",
       "</style>\n",
       "<table border=\"1\" class=\"dataframe\">\n",
       "  <thead>\n",
       "    <tr style=\"text-align: right;\">\n",
       "      <th></th>\n",
       "      <th>id</th>\n",
       "      <th>ingredients</th>\n",
       "    </tr>\n",
       "  </thead>\n",
       "  <tbody>\n",
       "    <tr>\n",
       "      <td>0</td>\n",
       "      <td>1</td>\n",
       "      <td>hershey's semi-sweet chocolate chips</td>\n",
       "    </tr>\n",
       "    <tr>\n",
       "      <td>1</td>\n",
       "      <td>1</td>\n",
       "      <td>hershey's semi-sweet chocolate chips</td>\n",
       "    </tr>\n",
       "    <tr>\n",
       "      <td>2</td>\n",
       "      <td>1</td>\n",
       "      <td>hershey's semi-sweet chocolate chips</td>\n",
       "    </tr>\n",
       "    <tr>\n",
       "      <td>3</td>\n",
       "      <td>1</td>\n",
       "      <td>hershey's semi-sweet chocolate chips</td>\n",
       "    </tr>\n",
       "    <tr>\n",
       "      <td>4</td>\n",
       "      <td>1</td>\n",
       "      <td>hershey's semi-sweet chocolate chips</td>\n",
       "    </tr>\n",
       "  </tbody>\n",
       "</table>\n",
       "</div>"
      ],
      "text/plain": [
       "   id                           ingredients\n",
       "0   1  hershey's semi-sweet chocolate chips\n",
       "1   1  hershey's semi-sweet chocolate chips\n",
       "2   1  hershey's semi-sweet chocolate chips\n",
       "3   1  hershey's semi-sweet chocolate chips\n",
       "4   1  hershey's semi-sweet chocolate chips"
      ]
     },
     "execution_count": 7,
     "metadata": {},
     "output_type": "execute_result"
    }
   ],
   "source": [
    "ingredients_map_data.head()"
   ]
  },
  {
   "cell_type": "code",
   "execution_count": 8,
   "metadata": {},
   "outputs": [
    {
     "data": {
      "text/html": [
       "<div>\n",
       "<style scoped>\n",
       "    .dataframe tbody tr th:only-of-type {\n",
       "        vertical-align: middle;\n",
       "    }\n",
       "\n",
       "    .dataframe tbody tr th {\n",
       "        vertical-align: top;\n",
       "    }\n",
       "\n",
       "    .dataframe thead th {\n",
       "        text-align: right;\n",
       "    }\n",
       "</style>\n",
       "<table border=\"1\" class=\"dataframe\">\n",
       "  <thead>\n",
       "    <tr style=\"text-align: right;\">\n",
       "      <th></th>\n",
       "      <th>user_id</th>\n",
       "      <th>recipe_id</th>\n",
       "      <th>date</th>\n",
       "      <th>rating</th>\n",
       "      <th>u</th>\n",
       "      <th>i</th>\n",
       "    </tr>\n",
       "  </thead>\n",
       "  <tbody>\n",
       "    <tr>\n",
       "      <td>0</td>\n",
       "      <td>2046</td>\n",
       "      <td>4684</td>\n",
       "      <td>2000-02-25</td>\n",
       "      <td>5.0</td>\n",
       "      <td>22095</td>\n",
       "      <td>44367</td>\n",
       "    </tr>\n",
       "    <tr>\n",
       "      <td>1</td>\n",
       "      <td>2046</td>\n",
       "      <td>517</td>\n",
       "      <td>2000-02-25</td>\n",
       "      <td>5.0</td>\n",
       "      <td>22095</td>\n",
       "      <td>87844</td>\n",
       "    </tr>\n",
       "    <tr>\n",
       "      <td>2</td>\n",
       "      <td>1773</td>\n",
       "      <td>7435</td>\n",
       "      <td>2000-03-13</td>\n",
       "      <td>5.0</td>\n",
       "      <td>24732</td>\n",
       "      <td>138181</td>\n",
       "    </tr>\n",
       "    <tr>\n",
       "      <td>3</td>\n",
       "      <td>1773</td>\n",
       "      <td>278</td>\n",
       "      <td>2000-03-13</td>\n",
       "      <td>4.0</td>\n",
       "      <td>24732</td>\n",
       "      <td>93054</td>\n",
       "    </tr>\n",
       "    <tr>\n",
       "      <td>4</td>\n",
       "      <td>2046</td>\n",
       "      <td>3431</td>\n",
       "      <td>2000-04-07</td>\n",
       "      <td>5.0</td>\n",
       "      <td>22095</td>\n",
       "      <td>101723</td>\n",
       "    </tr>\n",
       "    <tr>\n",
       "      <td>5</td>\n",
       "      <td>2046</td>\n",
       "      <td>13307</td>\n",
       "      <td>2000-05-21</td>\n",
       "      <td>5.0</td>\n",
       "      <td>22095</td>\n",
       "      <td>134551</td>\n",
       "    </tr>\n",
       "    <tr>\n",
       "      <td>6</td>\n",
       "      <td>2312</td>\n",
       "      <td>780</td>\n",
       "      <td>2000-09-12</td>\n",
       "      <td>5.0</td>\n",
       "      <td>1674</td>\n",
       "      <td>127175</td>\n",
       "    </tr>\n",
       "    <tr>\n",
       "      <td>7</td>\n",
       "      <td>2312</td>\n",
       "      <td>51964</td>\n",
       "      <td>2000-09-26</td>\n",
       "      <td>5.0</td>\n",
       "      <td>1674</td>\n",
       "      <td>151793</td>\n",
       "    </tr>\n",
       "    <tr>\n",
       "      <td>8</td>\n",
       "      <td>2312</td>\n",
       "      <td>1232</td>\n",
       "      <td>2000-10-17</td>\n",
       "      <td>4.0</td>\n",
       "      <td>1674</td>\n",
       "      <td>15498</td>\n",
       "    </tr>\n",
       "    <tr>\n",
       "      <td>9</td>\n",
       "      <td>2312</td>\n",
       "      <td>4397</td>\n",
       "      <td>2000-10-17</td>\n",
       "      <td>5.0</td>\n",
       "      <td>1674</td>\n",
       "      <td>14380</td>\n",
       "    </tr>\n",
       "  </tbody>\n",
       "</table>\n",
       "</div>"
      ],
      "text/plain": [
       "   user_id  recipe_id        date  rating      u       i\n",
       "0     2046       4684  2000-02-25     5.0  22095   44367\n",
       "1     2046        517  2000-02-25     5.0  22095   87844\n",
       "2     1773       7435  2000-03-13     5.0  24732  138181\n",
       "3     1773        278  2000-03-13     4.0  24732   93054\n",
       "4     2046       3431  2000-04-07     5.0  22095  101723\n",
       "5     2046      13307  2000-05-21     5.0  22095  134551\n",
       "6     2312        780  2000-09-12     5.0   1674  127175\n",
       "7     2312      51964  2000-09-26     5.0   1674  151793\n",
       "8     2312       1232  2000-10-17     4.0   1674   15498\n",
       "9     2312       4397  2000-10-17     5.0   1674   14380"
      ]
     },
     "execution_count": 8,
     "metadata": {},
     "output_type": "execute_result"
    }
   ],
   "source": [
    "train_data.head(10)"
   ]
  },
  {
   "cell_type": "code",
   "execution_count": 16,
   "metadata": {},
   "outputs": [
    {
     "data": {
      "text/html": [
       "<div>\n",
       "<style scoped>\n",
       "    .dataframe tbody tr th:only-of-type {\n",
       "        vertical-align: middle;\n",
       "    }\n",
       "\n",
       "    .dataframe tbody tr th {\n",
       "        vertical-align: top;\n",
       "    }\n",
       "\n",
       "    .dataframe thead th {\n",
       "        text-align: right;\n",
       "    }\n",
       "</style>\n",
       "<table border=\"1\" class=\"dataframe\">\n",
       "  <thead>\n",
       "    <tr style=\"text-align: right;\">\n",
       "      <th></th>\n",
       "      <th>user_id</th>\n",
       "      <th>recipe_id</th>\n",
       "      <th>date</th>\n",
       "      <th>rating</th>\n",
       "      <th>u</th>\n",
       "      <th>i</th>\n",
       "    </tr>\n",
       "  </thead>\n",
       "  <tbody>\n",
       "    <tr>\n",
       "      <td>4392</td>\n",
       "      <td>417131</td>\n",
       "      <td>241491</td>\n",
       "      <td>2007-09-05</td>\n",
       "      <td>4.0</td>\n",
       "      <td>20523</td>\n",
       "      <td>178263</td>\n",
       "    </tr>\n",
       "  </tbody>\n",
       "</table>\n",
       "</div>"
      ],
      "text/plain": [
       "      user_id  recipe_id        date  rating      u       i\n",
       "4392   417131     241491  2007-09-05     4.0  20523  178263"
      ]
     },
     "execution_count": 16,
     "metadata": {},
     "output_type": "execute_result"
    }
   ],
   "source": [
    "validation_data[validation_data['i']==178263]"
   ]
  },
  {
   "cell_type": "code",
   "execution_count": 17,
   "metadata": {},
   "outputs": [],
   "source": [
    "new_validation_data =  validation_data[validation_data['i']!=178263]"
   ]
  },
  {
   "cell_type": "code",
   "execution_count": 20,
   "metadata": {},
   "outputs": [],
   "source": [
    "new_validation_data.to_csv('new_interactions_validation.csv',index=False)"
   ]
  },
  {
   "cell_type": "code",
   "execution_count": 23,
   "metadata": {},
   "outputs": [],
   "source": [
    "new_test_data = test_data.loc[(test_data['i']!=178264) & (test_data['i']!=178263)]"
   ]
  },
  {
   "cell_type": "code",
   "execution_count": 25,
   "metadata": {},
   "outputs": [],
   "source": [
    "new_test_data.to_csv('dataset/new_interactions_test.csv',index=False)"
   ]
  },
  {
   "cell_type": "code",
   "execution_count": 24,
   "metadata": {},
   "outputs": [
    {
     "data": {
      "text/plain": [
       "count     12453.000000\n",
       "mean     115478.041516\n",
       "std       50446.440396\n",
       "min         102.000000\n",
       "25%       76883.000000\n",
       "50%      127789.000000\n",
       "75%      160014.000000\n",
       "max      178260.000000\n",
       "Name: i, dtype: float64"
      ]
     },
     "execution_count": 24,
     "metadata": {},
     "output_type": "execute_result"
    }
   ],
   "source": [
    "new_test_data['i'].describe() "
   ]
  },
  {
   "cell_type": "code",
   "execution_count": 33,
   "metadata": {},
   "outputs": [
    {
     "data": {
      "text/html": [
       "<div>\n",
       "<style scoped>\n",
       "    .dataframe tbody tr th:only-of-type {\n",
       "        vertical-align: middle;\n",
       "    }\n",
       "\n",
       "    .dataframe tbody tr th {\n",
       "        vertical-align: top;\n",
       "    }\n",
       "\n",
       "    .dataframe thead th {\n",
       "        text-align: right;\n",
       "    }\n",
       "</style>\n",
       "<table border=\"1\" class=\"dataframe\">\n",
       "  <thead>\n",
       "    <tr style=\"text-align: right;\">\n",
       "      <th></th>\n",
       "      <th>user_id</th>\n",
       "      <th>recipe_id</th>\n",
       "      <th>date</th>\n",
       "      <th>rating</th>\n",
       "      <th>u</th>\n",
       "      <th>i</th>\n",
       "    </tr>\n",
       "  </thead>\n",
       "  <tbody>\n",
       "    <tr>\n",
       "      <td>5702</td>\n",
       "      <td>38094</td>\n",
       "      <td>16954</td>\n",
       "      <td>2002-06-10</td>\n",
       "      <td>5.0</td>\n",
       "      <td>0</td>\n",
       "      <td>1118</td>\n",
       "    </tr>\n",
       "    <tr>\n",
       "      <td>5852</td>\n",
       "      <td>38094</td>\n",
       "      <td>30565</td>\n",
       "      <td>2002-06-14</td>\n",
       "      <td>5.0</td>\n",
       "      <td>0</td>\n",
       "      <td>27680</td>\n",
       "    </tr>\n",
       "    <tr>\n",
       "      <td>5870</td>\n",
       "      <td>38094</td>\n",
       "      <td>20500</td>\n",
       "      <td>2002-06-17</td>\n",
       "      <td>5.0</td>\n",
       "      <td>0</td>\n",
       "      <td>32541</td>\n",
       "    </tr>\n",
       "    <tr>\n",
       "      <td>5943</td>\n",
       "      <td>38094</td>\n",
       "      <td>16391</td>\n",
       "      <td>2002-06-17</td>\n",
       "      <td>5.0</td>\n",
       "      <td>0</td>\n",
       "      <td>137353</td>\n",
       "    </tr>\n",
       "    <tr>\n",
       "      <td>7147</td>\n",
       "      <td>38094</td>\n",
       "      <td>34513</td>\n",
       "      <td>2002-07-18</td>\n",
       "      <td>5.0</td>\n",
       "      <td>0</td>\n",
       "      <td>16428</td>\n",
       "    </tr>\n",
       "    <tr>\n",
       "      <td>7158</td>\n",
       "      <td>38094</td>\n",
       "      <td>34509</td>\n",
       "      <td>2002-07-18</td>\n",
       "      <td>5.0</td>\n",
       "      <td>0</td>\n",
       "      <td>28815</td>\n",
       "    </tr>\n",
       "    <tr>\n",
       "      <td>7755</td>\n",
       "      <td>38094</td>\n",
       "      <td>18007</td>\n",
       "      <td>2002-08-05</td>\n",
       "      <td>5.0</td>\n",
       "      <td>0</td>\n",
       "      <td>65803</td>\n",
       "    </tr>\n",
       "    <tr>\n",
       "      <td>8162</td>\n",
       "      <td>38094</td>\n",
       "      <td>31503</td>\n",
       "      <td>2002-08-13</td>\n",
       "      <td>4.0</td>\n",
       "      <td>0</td>\n",
       "      <td>148743</td>\n",
       "    </tr>\n",
       "    <tr>\n",
       "      <td>8291</td>\n",
       "      <td>38094</td>\n",
       "      <td>36381</td>\n",
       "      <td>2002-08-15</td>\n",
       "      <td>4.0</td>\n",
       "      <td>0</td>\n",
       "      <td>129939</td>\n",
       "    </tr>\n",
       "    <tr>\n",
       "      <td>8315</td>\n",
       "      <td>38094</td>\n",
       "      <td>36653</td>\n",
       "      <td>2002-08-15</td>\n",
       "      <td>4.0</td>\n",
       "      <td>0</td>\n",
       "      <td>99377</td>\n",
       "    </tr>\n",
       "    <tr>\n",
       "      <td>8754</td>\n",
       "      <td>38094</td>\n",
       "      <td>38104</td>\n",
       "      <td>2002-08-25</td>\n",
       "      <td>5.0</td>\n",
       "      <td>0</td>\n",
       "      <td>33025</td>\n",
       "    </tr>\n",
       "    <tr>\n",
       "      <td>9606</td>\n",
       "      <td>38094</td>\n",
       "      <td>32377</td>\n",
       "      <td>2002-09-12</td>\n",
       "      <td>5.0</td>\n",
       "      <td>0</td>\n",
       "      <td>173660</td>\n",
       "    </tr>\n",
       "    <tr>\n",
       "      <td>9661</td>\n",
       "      <td>38094</td>\n",
       "      <td>39907</td>\n",
       "      <td>2002-09-12</td>\n",
       "      <td>4.0</td>\n",
       "      <td>0</td>\n",
       "      <td>46706</td>\n",
       "    </tr>\n",
       "    <tr>\n",
       "      <td>10152</td>\n",
       "      <td>38094</td>\n",
       "      <td>40923</td>\n",
       "      <td>2002-09-23</td>\n",
       "      <td>5.0</td>\n",
       "      <td>0</td>\n",
       "      <td>100515</td>\n",
       "    </tr>\n",
       "    <tr>\n",
       "      <td>10190</td>\n",
       "      <td>38094</td>\n",
       "      <td>40852</td>\n",
       "      <td>2002-09-23</td>\n",
       "      <td>5.0</td>\n",
       "      <td>0</td>\n",
       "      <td>101276</td>\n",
       "    </tr>\n",
       "    <tr>\n",
       "      <td>12873</td>\n",
       "      <td>38094</td>\n",
       "      <td>44244</td>\n",
       "      <td>2002-11-09</td>\n",
       "      <td>5.0</td>\n",
       "      <td>0</td>\n",
       "      <td>93176</td>\n",
       "    </tr>\n",
       "    <tr>\n",
       "      <td>12908</td>\n",
       "      <td>38094</td>\n",
       "      <td>4764</td>\n",
       "      <td>2002-11-09</td>\n",
       "      <td>5.0</td>\n",
       "      <td>0</td>\n",
       "      <td>70383</td>\n",
       "    </tr>\n",
       "    <tr>\n",
       "      <td>15888</td>\n",
       "      <td>38094</td>\n",
       "      <td>49064</td>\n",
       "      <td>2003-01-05</td>\n",
       "      <td>4.0</td>\n",
       "      <td>0</td>\n",
       "      <td>24204</td>\n",
       "    </tr>\n",
       "    <tr>\n",
       "      <td>18487</td>\n",
       "      <td>38094</td>\n",
       "      <td>40893</td>\n",
       "      <td>2003-02-17</td>\n",
       "      <td>4.0</td>\n",
       "      <td>0</td>\n",
       "      <td>0</td>\n",
       "    </tr>\n",
       "    <tr>\n",
       "      <td>27796</td>\n",
       "      <td>38094</td>\n",
       "      <td>63965</td>\n",
       "      <td>2003-07-15</td>\n",
       "      <td>5.0</td>\n",
       "      <td>0</td>\n",
       "      <td>172222</td>\n",
       "    </tr>\n",
       "    <tr>\n",
       "      <td>30827</td>\n",
       "      <td>38094</td>\n",
       "      <td>69545</td>\n",
       "      <td>2003-09-01</td>\n",
       "      <td>5.0</td>\n",
       "      <td>0</td>\n",
       "      <td>19472</td>\n",
       "    </tr>\n",
       "    <tr>\n",
       "      <td>34408</td>\n",
       "      <td>38094</td>\n",
       "      <td>69501</td>\n",
       "      <td>2003-10-25</td>\n",
       "      <td>5.0</td>\n",
       "      <td>0</td>\n",
       "      <td>90038</td>\n",
       "    </tr>\n",
       "    <tr>\n",
       "      <td>35603</td>\n",
       "      <td>38094</td>\n",
       "      <td>71569</td>\n",
       "      <td>2003-11-11</td>\n",
       "      <td>5.0</td>\n",
       "      <td>0</td>\n",
       "      <td>84063</td>\n",
       "    </tr>\n",
       "    <tr>\n",
       "      <td>37327</td>\n",
       "      <td>38094</td>\n",
       "      <td>49387</td>\n",
       "      <td>2003-12-08</td>\n",
       "      <td>5.0</td>\n",
       "      <td>0</td>\n",
       "      <td>71578</td>\n",
       "    </tr>\n",
       "    <tr>\n",
       "      <td>37343</td>\n",
       "      <td>38094</td>\n",
       "      <td>40753</td>\n",
       "      <td>2003-12-08</td>\n",
       "      <td>5.0</td>\n",
       "      <td>0</td>\n",
       "      <td>11190</td>\n",
       "    </tr>\n",
       "    <tr>\n",
       "      <td>37359</td>\n",
       "      <td>38094</td>\n",
       "      <td>77818</td>\n",
       "      <td>2003-12-08</td>\n",
       "      <td>5.0</td>\n",
       "      <td>0</td>\n",
       "      <td>58387</td>\n",
       "    </tr>\n",
       "    <tr>\n",
       "      <td>39256</td>\n",
       "      <td>38094</td>\n",
       "      <td>29493</td>\n",
       "      <td>2004-01-04</td>\n",
       "      <td>5.0</td>\n",
       "      <td>0</td>\n",
       "      <td>27749</td>\n",
       "    </tr>\n",
       "    <tr>\n",
       "      <td>39257</td>\n",
       "      <td>38094</td>\n",
       "      <td>79964</td>\n",
       "      <td>2004-01-04</td>\n",
       "      <td>5.0</td>\n",
       "      <td>0</td>\n",
       "      <td>101225</td>\n",
       "    </tr>\n",
       "    <tr>\n",
       "      <td>39267</td>\n",
       "      <td>38094</td>\n",
       "      <td>72929</td>\n",
       "      <td>2004-01-04</td>\n",
       "      <td>5.0</td>\n",
       "      <td>0</td>\n",
       "      <td>85204</td>\n",
       "    </tr>\n",
       "    <tr>\n",
       "      <td>40805</td>\n",
       "      <td>38094</td>\n",
       "      <td>81845</td>\n",
       "      <td>2004-01-23</td>\n",
       "      <td>5.0</td>\n",
       "      <td>0</td>\n",
       "      <td>89385</td>\n",
       "    </tr>\n",
       "    <tr>\n",
       "      <td>44880</td>\n",
       "      <td>38094</td>\n",
       "      <td>26259</td>\n",
       "      <td>2004-03-15</td>\n",
       "      <td>5.0</td>\n",
       "      <td>0</td>\n",
       "      <td>161655</td>\n",
       "    </tr>\n",
       "  </tbody>\n",
       "</table>\n",
       "</div>"
      ],
      "text/plain": [
       "       user_id  recipe_id        date  rating  u       i\n",
       "5702     38094      16954  2002-06-10     5.0  0    1118\n",
       "5852     38094      30565  2002-06-14     5.0  0   27680\n",
       "5870     38094      20500  2002-06-17     5.0  0   32541\n",
       "5943     38094      16391  2002-06-17     5.0  0  137353\n",
       "7147     38094      34513  2002-07-18     5.0  0   16428\n",
       "7158     38094      34509  2002-07-18     5.0  0   28815\n",
       "7755     38094      18007  2002-08-05     5.0  0   65803\n",
       "8162     38094      31503  2002-08-13     4.0  0  148743\n",
       "8291     38094      36381  2002-08-15     4.0  0  129939\n",
       "8315     38094      36653  2002-08-15     4.0  0   99377\n",
       "8754     38094      38104  2002-08-25     5.0  0   33025\n",
       "9606     38094      32377  2002-09-12     5.0  0  173660\n",
       "9661     38094      39907  2002-09-12     4.0  0   46706\n",
       "10152    38094      40923  2002-09-23     5.0  0  100515\n",
       "10190    38094      40852  2002-09-23     5.0  0  101276\n",
       "12873    38094      44244  2002-11-09     5.0  0   93176\n",
       "12908    38094       4764  2002-11-09     5.0  0   70383\n",
       "15888    38094      49064  2003-01-05     4.0  0   24204\n",
       "18487    38094      40893  2003-02-17     4.0  0       0\n",
       "27796    38094      63965  2003-07-15     5.0  0  172222\n",
       "30827    38094      69545  2003-09-01     5.0  0   19472\n",
       "34408    38094      69501  2003-10-25     5.0  0   90038\n",
       "35603    38094      71569  2003-11-11     5.0  0   84063\n",
       "37327    38094      49387  2003-12-08     5.0  0   71578\n",
       "37343    38094      40753  2003-12-08     5.0  0   11190\n",
       "37359    38094      77818  2003-12-08     5.0  0   58387\n",
       "39256    38094      29493  2004-01-04     5.0  0   27749\n",
       "39257    38094      79964  2004-01-04     5.0  0  101225\n",
       "39267    38094      72929  2004-01-04     5.0  0   85204\n",
       "40805    38094      81845  2004-01-23     5.0  0   89385\n",
       "44880    38094      26259  2004-03-15     5.0  0  161655"
      ]
     },
     "execution_count": 33,
     "metadata": {},
     "output_type": "execute_result"
    }
   ],
   "source": [
    "train_data.loc[train_data['u']==0]"
   ]
  },
  {
   "cell_type": "code",
   "execution_count": 57,
   "metadata": {},
   "outputs": [
    {
     "data": {
      "text/plain": [
       "count    698901.000000\n",
       "mean      87519.330993\n",
       "std       51290.370370\n",
       "min           0.000000\n",
       "25%       42988.000000\n",
       "50%       87424.000000\n",
       "75%      131731.000000\n",
       "max      178262.000000\n",
       "Name: i, dtype: float64"
      ]
     },
     "execution_count": 57,
     "metadata": {},
     "output_type": "execute_result"
    }
   ],
   "source": [
    "train_data['i'].describe()"
   ]
  },
  {
   "cell_type": "code",
   "execution_count": 17,
   "metadata": {},
   "outputs": [
    {
     "data": {
      "text/plain": [
       "3.9206392837508837"
      ]
     },
     "execution_count": 17,
     "metadata": {},
     "output_type": "execute_result"
    }
   ],
   "source": [
    "698901/178262"
   ]
  },
  {
   "cell_type": "code",
   "execution_count": 14,
   "metadata": {},
   "outputs": [
    {
     "data": {
      "text/plain": [
       "27.872422731804587"
      ]
     },
     "execution_count": 14,
     "metadata": {},
     "output_type": "execute_result"
    }
   ],
   "source": [
    "698901/25075"
   ]
  },
  {
   "cell_type": "code",
   "execution_count": null,
   "metadata": {},
   "outputs": [],
   "source": [
    "import plotly.graph_objects as go\n",
    "fig = go.Figure()\n",
    "fig.add_trace(go.Histogram(x=train_data['u'], name='Users'))\n",
    "fig.add_trace(go.Histogram(x=train_data['i'], name='Recipes'))\n",
    "fig.update_traces(opacity=0.75)\n",
    "fig.update_layout(\n",
    "    title_text='Training Data', # title of plot\n",
    "    xaxis_title_text='User/Recipe ID', # xaxis label\n",
    "    yaxis_title_text='Count'# yaxis label\n",
    ")\n",
    "fig.show()"
   ]
  },
  {
   "cell_type": "code",
   "execution_count": 14,
   "metadata": {},
   "outputs": [
    {
     "data": {
      "text/html": [
       "<div>\n",
       "<style scoped>\n",
       "    .dataframe tbody tr th:only-of-type {\n",
       "        vertical-align: middle;\n",
       "    }\n",
       "\n",
       "    .dataframe tbody tr th {\n",
       "        vertical-align: top;\n",
       "    }\n",
       "\n",
       "    .dataframe thead th {\n",
       "        text-align: right;\n",
       "    }\n",
       "</style>\n",
       "<table border=\"1\" class=\"dataframe\">\n",
       "  <thead>\n",
       "    <tr style=\"text-align: right;\">\n",
       "      <th></th>\n",
       "      <th>id</th>\n",
       "      <th>i</th>\n",
       "      <th>name_tokens</th>\n",
       "      <th>ingredient_tokens</th>\n",
       "      <th>steps_tokens</th>\n",
       "      <th>techniques</th>\n",
       "      <th>calorie_level</th>\n",
       "      <th>ingredient_ids</th>\n",
       "    </tr>\n",
       "  </thead>\n",
       "  <tbody>\n",
       "    <tr>\n",
       "      <td>0</td>\n",
       "      <td>424415</td>\n",
       "      <td>23</td>\n",
       "      <td>[40480, 37229, 2911, 1019, 249, 6878, 6878, 28...</td>\n",
       "      <td>[[2911, 1019, 249, 6878], [1353], [6953], [153...</td>\n",
       "      <td>[40480, 40482, 21662, 481, 6878, 500, 246, 161...</td>\n",
       "      <td>[0, 0, 0, 0, 0, 0, 0, 0, 0, 1, 0, 0, 0, 0, 0, ...</td>\n",
       "      <td>0</td>\n",
       "      <td>[389, 7655, 6270, 1527, 3406]</td>\n",
       "    </tr>\n",
       "    <tr>\n",
       "      <td>1</td>\n",
       "      <td>146223</td>\n",
       "      <td>96900</td>\n",
       "      <td>[40480, 18376, 7056, 246, 1531, 2032, 40481]</td>\n",
       "      <td>[[17918], [25916], [2507, 6444], [8467, 1179],...</td>\n",
       "      <td>[40480, 40482, 729, 2525, 10906, 485, 43, 8393...</td>\n",
       "      <td>[1, 0, 0, 0, 0, 0, 0, 0, 0, 1, 0, 0, 0, 0, 0, ...</td>\n",
       "      <td>0</td>\n",
       "      <td>[2683, 4969, 800, 5298, 840, 2499, 6632, 7022,...</td>\n",
       "    </tr>\n",
       "    <tr>\n",
       "      <td>2</td>\n",
       "      <td>312329</td>\n",
       "      <td>120056</td>\n",
       "      <td>[40480, 21044, 16954, 8294, 556, 10837, 40481]</td>\n",
       "      <td>[[5867, 24176], [1353], [6953], [1301, 11332],...</td>\n",
       "      <td>[40480, 40482, 8240, 481, 24176, 296, 1353, 66...</td>\n",
       "      <td>[0, 0, 0, 0, 1, 0, 0, 0, 0, 0, 0, 1, 0, 0, 0, ...</td>\n",
       "      <td>1</td>\n",
       "      <td>[1257, 7655, 6270, 590, 5024, 1119, 4883, 6696...</td>\n",
       "    </tr>\n",
       "    <tr>\n",
       "      <td>3</td>\n",
       "      <td>74301</td>\n",
       "      <td>168258</td>\n",
       "      <td>[40480, 10025, 31156, 40481]</td>\n",
       "      <td>[[1270, 1645, 28447], [21601], [27952, 29471, ...</td>\n",
       "      <td>[40480, 40482, 5539, 21601, 1073, 903, 2324, 4...</td>\n",
       "      <td>[1, 0, 0, 0, 0, 0, 0, 0, 0, 0, 0, 0, 0, 0, 0, ...</td>\n",
       "      <td>0</td>\n",
       "      <td>[7940, 3609, 7060, 6265, 1170, 6654, 5003, 3561]</td>\n",
       "    </tr>\n",
       "    <tr>\n",
       "      <td>4</td>\n",
       "      <td>76272</td>\n",
       "      <td>109030</td>\n",
       "      <td>[40480, 17841, 252, 782, 2373, 1641, 2373, 252...</td>\n",
       "      <td>[[1430, 11434], [1430, 17027], [1615, 23, 695,...</td>\n",
       "      <td>[40480, 40482, 14046, 1430, 11434, 488, 17027,...</td>\n",
       "      <td>[0, 0, 0, 0, 0, 0, 0, 0, 0, 1, 0, 0, 0, 0, 0, ...</td>\n",
       "      <td>0</td>\n",
       "      <td>[3484, 6324, 7594, 243]</td>\n",
       "    </tr>\n",
       "  </tbody>\n",
       "</table>\n",
       "</div>"
      ],
      "text/plain": [
       "       id       i                                        name_tokens  \\\n",
       "0  424415      23  [40480, 37229, 2911, 1019, 249, 6878, 6878, 28...   \n",
       "1  146223   96900       [40480, 18376, 7056, 246, 1531, 2032, 40481]   \n",
       "2  312329  120056     [40480, 21044, 16954, 8294, 556, 10837, 40481]   \n",
       "3   74301  168258                       [40480, 10025, 31156, 40481]   \n",
       "4   76272  109030  [40480, 17841, 252, 782, 2373, 1641, 2373, 252...   \n",
       "\n",
       "                                   ingredient_tokens  \\\n",
       "0  [[2911, 1019, 249, 6878], [1353], [6953], [153...   \n",
       "1  [[17918], [25916], [2507, 6444], [8467, 1179],...   \n",
       "2  [[5867, 24176], [1353], [6953], [1301, 11332],...   \n",
       "3  [[1270, 1645, 28447], [21601], [27952, 29471, ...   \n",
       "4  [[1430, 11434], [1430, 17027], [1615, 23, 695,...   \n",
       "\n",
       "                                        steps_tokens  \\\n",
       "0  [40480, 40482, 21662, 481, 6878, 500, 246, 161...   \n",
       "1  [40480, 40482, 729, 2525, 10906, 485, 43, 8393...   \n",
       "2  [40480, 40482, 8240, 481, 24176, 296, 1353, 66...   \n",
       "3  [40480, 40482, 5539, 21601, 1073, 903, 2324, 4...   \n",
       "4  [40480, 40482, 14046, 1430, 11434, 488, 17027,...   \n",
       "\n",
       "                                          techniques  calorie_level  \\\n",
       "0  [0, 0, 0, 0, 0, 0, 0, 0, 0, 1, 0, 0, 0, 0, 0, ...              0   \n",
       "1  [1, 0, 0, 0, 0, 0, 0, 0, 0, 1, 0, 0, 0, 0, 0, ...              0   \n",
       "2  [0, 0, 0, 0, 1, 0, 0, 0, 0, 0, 0, 1, 0, 0, 0, ...              1   \n",
       "3  [1, 0, 0, 0, 0, 0, 0, 0, 0, 0, 0, 0, 0, 0, 0, ...              0   \n",
       "4  [0, 0, 0, 0, 0, 0, 0, 0, 0, 1, 0, 0, 0, 0, 0, ...              0   \n",
       "\n",
       "                                      ingredient_ids  \n",
       "0                      [389, 7655, 6270, 1527, 3406]  \n",
       "1  [2683, 4969, 800, 5298, 840, 2499, 6632, 7022,...  \n",
       "2  [1257, 7655, 6270, 590, 5024, 1119, 4883, 6696...  \n",
       "3   [7940, 3609, 7060, 6265, 1170, 6654, 5003, 3561]  \n",
       "4                            [3484, 6324, 7594, 243]  "
      ]
     },
     "execution_count": 14,
     "metadata": {},
     "output_type": "execute_result"
    }
   ],
   "source": [
    "PP_recipes_data.head()"
   ]
  },
  {
   "cell_type": "code",
   "execution_count": null,
   "metadata": {},
   "outputs": [],
   "source": []
  }
 ],
 "metadata": {
  "kernelspec": {
   "display_name": "Python 3",
   "language": "python",
   "name": "python3"
  },
  "language_info": {
   "codemirror_mode": {
    "name": "ipython",
    "version": 3
   },
   "file_extension": ".py",
   "mimetype": "text/x-python",
   "name": "python",
   "nbconvert_exporter": "python",
   "pygments_lexer": "ipython3",
   "version": "3.7.4"
  }
 },
 "nbformat": 4,
 "nbformat_minor": 2
}
